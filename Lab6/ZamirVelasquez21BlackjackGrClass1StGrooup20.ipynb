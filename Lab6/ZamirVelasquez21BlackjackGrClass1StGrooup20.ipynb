{
  "nbformat": 4,
  "nbformat_minor": 0,
  "metadata": {
    "colab": {
      "name": "21BlackjackGrClass1StGrooup1.ipynb",
      "provenance": [],
      "collapsed_sections": []
    },
    "kernelspec": {
      "name": "python3",
      "display_name": "Python 3"
    }
  },
  "cells": [
    {
      "cell_type": "code",
      "metadata": {
        "id": "gWYXauBUiyLy"
      },
      "source": [
        "import random as r\n",
        "import matplotlib.pyplot as plt"
      ],
      "execution_count": null,
      "outputs": []
    },
    {
      "cell_type": "markdown",
      "metadata": {
        "id": "rJgcH6so0V_1"
      },
      "source": [
        "Quasi-Monte Carlo\n",
        "\n",
        "Quasi-Monte Carlo has a rate of convergence close to O(1/N), whereas the rate for the Monte Carlo method is O(N^{−0.5}) - [wikipdia](https://en.wikipedia.org/wiki/Quasi-Monte_Carlo_method)\n",
        "\n",
        "Halton’s low discrepency sequences -Monte Carlo sampling methods - [risk-engineering.org](https://risk-engineering.org/notebook/monte-carlo-LHS.html)"
      ]
    },
    {
      "cell_type": "code",
      "metadata": {
        "id": "6qQGwm960tz-"
      },
      "source": [
        "import numpy \n",
        "import math"
      ],
      "execution_count": null,
      "outputs": []
    },
    {
      "cell_type": "code",
      "metadata": {
        "id": "YlcjVOQ-0S6S"
      },
      "source": [
        "# adapted from https://mail.scipy.org/pipermail/scipy-user/2013-June/034744.html\n",
        "def halton(dim: int, nbpts: int):\n",
        "    h = numpy.full(nbpts * dim, numpy.nan)\n",
        "    p = numpy.full(nbpts, numpy.nan)\n",
        "    P = [2, 3, 5, 7, 11, 13, 17, 19, 23, 29, 31]\n",
        "    lognbpts = math.log(nbpts + 1)\n",
        "    for i in range(dim):\n",
        "        b = P[i]\n",
        "        n = int(math.ceil(lognbpts / math.log(b)))\n",
        "        for t in range(n):\n",
        "            p[t] = pow(b, -(t + 1))\n",
        "\n",
        "        for j in range(nbpts):\n",
        "            d = j + 1\n",
        "            sum_ = math.fmod(d, b) * p[0]\n",
        "            for t in range(1, n):\n",
        "                d = math.floor(d / b)\n",
        "                sum_ += math.fmod(d, b) * p[t]\n",
        "\n",
        "            h[j*dim + i] = sum_\n",
        "    return h.reshape(nbpts, dim)"
      ],
      "execution_count": null,
      "outputs": []
    },
    {
      "cell_type": "code",
      "metadata": {
        "id": "dFxqmCMD0oid",
        "colab": {
          "base_uri": "https://localhost:8080/",
          "height": 335
        },
        "outputId": "eee08031-d408-419f-8f5d-835cfbaa731e"
      },
      "source": [
        "N = 1000\n",
        "seq = halton(2, N)\n",
        "plt.title(\"2D Halton sequence\")\n",
        "# Note: we use \"alpha=0.5\" in the scatterplot so that the plotted points are semi-transparent\n",
        "# (alpha-transparency of 0.5 out of 1), so that we can see when any points are superimposed.\n",
        "plt.axes().set_aspect('equal')\n",
        "plt.scatter(seq[:,0], seq[:,1], marker=\".\", alpha=0.5);\n"
      ],
      "execution_count": null,
      "outputs": [
        {
          "output_type": "stream",
          "text": [
            "/usr/local/lib/python3.7/dist-packages/ipykernel_launcher.py:6: MatplotlibDeprecationWarning: Adding an axes using the same arguments as a previous axes currently reuses the earlier instance.  In a future version, a new instance will always be created and returned.  Meanwhile, this warning can be suppressed, and the future behavior ensured, by passing a unique label to each axes instance.\n",
            "  \n"
          ],
          "name": "stderr"
        },
        {
          "output_type": "display_data",
          "data": {
            "image/png": "[encoded data removed]",
            "text/plain": [
              "<Figure size 432x288 with 1 Axes>"
            ]
          },
          "metadata": {
            "tags": [],
            "needs_background": "light"
          }
        }
      ]
    },
    {
      "cell_type": "code",
      "metadata": {
        "id": "usI9Vm6y1L_m",
        "colab": {
          "base_uri": "https://localhost:8080/",
          "height": 282
        },
        "outputId": "82561960-7300-4bd2-ae0b-79b7d8ecb507"
      },
      "source": [
        "N = 10000\n",
        "seq = halton(2, N)\n",
        "count = 0\n",
        "c=[]\n",
        "for p in seq:\n",
        "  if (p[0]**2+p[1]**2 < 1):\n",
        "    count = count +1\n",
        "    c.append(1)\n",
        "  else:\n",
        "    c.append(0)\n",
        "print(\"Pi approx:\",4*count/float(N))\n",
        "plt.axes().set_aspect('equal')\n",
        "plt.scatter(seq[:,0], seq[:,1],  c=c,marker=\".\", alpha=0.5);\n"
      ],
      "execution_count": null,
      "outputs": [
        {
          "output_type": "stream",
          "text": [
            "Pi approx: 3.1448\n"
          ],
          "name": "stdout"
        },
        {
          "output_type": "display_data",
          "data": {
            "image/png": "[encoded data removed]",
            "text/plain": [
              "<Figure size 432x288 with 1 Axes>"
            ]
          },
          "metadata": {
            "tags": [],
            "needs_background": "light"
          }
        }
      ]
    },
    {
      "cell_type": "code",
      "metadata": {
        "id": "QD379ev54GnV",
        "colab": {
          "base_uri": "https://localhost:8080/",
          "height": 34
        },
        "outputId": "5738128b-bb8b-400f-cc81-c11812eded65"
      },
      "source": [
        "N = 1000000\n",
        "seq = halton(2, N)\n",
        "count = 0\n",
        "for p in seq:\n",
        "  if (p[0]**2+p[1]**2 < 1):\n",
        "    count = count +1\n",
        "    c.append(1)\n",
        "  else:\n",
        "    c.append(0)\n",
        "print(\"Pi approx:\",4*count/float(N))"
      ],
      "execution_count": null,
      "outputs": [
        {
          "output_type": "stream",
          "text": [
            "Pi approx: 3.141572\n"
          ],
          "name": "stdout"
        }
      ]
    },
    {
      "cell_type": "markdown",
      "metadata": {
        "id": "cHMt04LR7Lk_"
      },
      "source": [
        "# **Monte Carlo Blackjack**"
      ]
    },
    {
      "cell_type": "markdown",
      "metadata": {
        "id": "yV77Y5LMbuTy"
      },
      "source": [
        "## **1.Estimando la probabilidad de obtener BlackJack 21 y el promedio de cartas necesarias, para una baraja de Poker y para una baraja Española.**"
      ]
    },
    {
      "cell_type": "code",
      "metadata": {
        "id": "L1bUrnQ72aKI"
      },
      "source": [
        "# Imoprtando librerías necesarias y \n",
        "# definiendo una función para evaluar los dos posibles valores del AS en este juego\n",
        "import random\n",
        "from random import choice\n",
        "\n",
        "def carta_As():\n",
        "  As = [1,11]\n",
        "  k = choice(As)\n",
        "  return k\n",
        "  "
      ],
      "execution_count": 3,
      "outputs": []
    },
    {
      "cell_type": "markdown",
      "metadata": {
        "id": "htdOO42Vccs_"
      },
      "source": [
        "### *Estimando probabilidad para 2 cartas.*"
      ]
    },
    {
      "cell_type": "code",
      "metadata": {
        "colab": {
          "base_uri": "https://localhost:8080/"
        },
        "id": "w-J1D0SlRnIr",
        "outputId": "80bc3abc-05a2-429f-865b-7d96069aad91"
      },
      "source": [
        "# Probabilidad para dos cartas\n",
        "\n",
        "#------------------BARAJA POKER------------------\n",
        "cartas=[\"As\",1,2,3,4,5,6,7,8,9,10,\"J\",\"Q\",\"K\"]\n",
        "valores=[1,11,2,3,4,5,6,7,8,9,10 ,10 ,10,10, \n",
        "         1,11,2,3,4,5,6,7,8,9,10 ,10 ,10,10, \n",
        "         1,11,2,3,4,5,6,7,8,9,10 ,10 ,10,10, \n",
        "         1,11,2,3,4,5,6,7,8,9,10 ,10 ,10,10]\n",
        "#------------------BARAJA ESPAÑOLA---------------\n",
        "valoresE=[1,2,3,4,5,6,7,8,9,10,11,12, \n",
        "          1,2,3,4,5,6,7,8,9,10,11,12, \n",
        "          1,2,3,4,5,6,7,8,9,10,11,12, \n",
        "          1,2,3,4,5,6,7,8,9,10,11,12]\n",
        "a = 0\n",
        "b = 0\n",
        "a1 = 0\n",
        "b1 = 0\n",
        "t = 10000000\n",
        "\n",
        "for i in range(0,t):\n",
        "  n = choice(valores)\n",
        "  m = choice(valores)\n",
        "  n1 = choice(valoresE)\n",
        "  m1 = choice(valoresE)\n",
        "  if (n + m) == 21:\n",
        "    a = a + 1 \n",
        "  else:\n",
        "    b = b + 1\n",
        "  if (n1 + m1) == 21:\n",
        "    a1 = a1 + 1 \n",
        "  else:\n",
        "    b1 = b1 + 1\n",
        "\n",
        "prob_2_cards = (a/t)\n",
        "prob_2_cardsE = (a1/t)\n",
        "    \n",
        "print(\"Casos favorables:\",a,\"/Casos totales:\",t,\"; La probabilidad de obtener 21 en 2 cartas en la baraja de poker es aproximadamente:\",prob_2_cards , \" o \", prob_2_cards*100 , \"%\")\n",
        "print(\"Casos NO favorables:\",b)\n",
        "print(\"\\nCasos favorables:\",a1,\"/Casos totales:\",t,\"; La probabilidad de obtener 21 en 2 cartas en la baraja Española es aproximadamente:\",prob_2_cardsE , \" o \", prob_2_cardsE*100 , \"%\")\n",
        "print(\"Casos NO favorables:\",b1)"
      ],
      "execution_count": 4,
      "outputs": [
        {
          "output_type": "stream",
          "text": [
            "Casos favorables: 408920 /Casos totales: 10000000 ; La probabilidad de obtener 21 en 2 cartas en la baraja de poker es aproximadamente: 0.040892  o  4.0892 %\n",
            "Casos NO favorables: 9591080\n",
            "\n",
            "Casos favorables: 278776 /Casos totales: 10000000 ; La probabilidad de obtener 21 en 2 cartas en la baraja Española es aproximadamente: 0.0278776  o  2.78776 %\n",
            "Casos NO favorables: 9721224\n"
          ],
          "name": "stdout"
        }
      ]
    },
    {
      "cell_type": "markdown",
      "metadata": {
        "id": "JjeON3ctcpCl"
      },
      "source": [
        "### *Estimando probabilidad para 3 cartas.*"
      ]
    },
    {
      "cell_type": "code",
      "metadata": {
        "colab": {
          "base_uri": "https://localhost:8080/"
        },
        "id": "_tRPewfmR4E5",
        "outputId": "1548f95e-a018-4f44-ff61-e021930bf6ee"
      },
      "source": [
        "# Probabilidad para tres cartas\n",
        "\n",
        "#------------------BARAJA POKER------------------\n",
        "cartas=[\"As\",1,2,3,4,5,6,7,8,9,10,\"J\",\"Q\",\"K\"]\n",
        "valores=[1,11,2,3,4,5,6,7,8,9,10 ,10 ,10,10, \n",
        "         1,11,2,3,4,5,6,7,8,9,10 ,10 ,10,10, \n",
        "         1,11,2,3,4,5,6,7,8,9,10 ,10 ,10,10, \n",
        "         1,11,2,3,4,5,6,7,8,9,10 ,10 ,10,10]\n",
        "#------------------BARAJA ESPAÑOLA---------------\n",
        "valoresE=[1,2,3,4,5,6,7,8,9,10,11,12, \n",
        "          1,2,3,4,5,6,7,8,9,10,11,12, \n",
        "          1,2,3,4,5,6,7,8,9,10,11,12, \n",
        "          1,2,3,4,5,6,7,8,9,10,11,12]\n",
        "a = 0\n",
        "b = 0\n",
        "a1 = 0\n",
        "b1 = 0\n",
        "t = 10000000\n",
        "\n",
        "for i in range(0,t):\n",
        "  n = choice(valores)\n",
        "  m = choice(valores)\n",
        "  o = choice(valores)\n",
        "  n1 = choice(valoresE)\n",
        "  m1 = choice(valoresE)\n",
        "  o1 = choice(valoresE)\n",
        "  if (n + m + o) == 21:\n",
        "    a = a + 1   \n",
        "  else:\n",
        "    b = b + 1\n",
        "  if (n1 + m1 + o1) == 21:\n",
        "    a1 = a1 + 1 \n",
        "  else:\n",
        "    b1 = b1 + 1\n",
        "    \n",
        "prob_3_cards = (a/t)\n",
        "prob_3_cardsE = (a1/t)\n",
        "    \n",
        "print(\"Casos favorables:\",a,\"/Casos totales:\",t,\"; La probabilidad de obtener 21 en 3 cartas en la baraja de poker es aproximadamente:\",prob_3_cards , \" o \", prob_3_cards*100 , \"%\")\n",
        "print(\"Casos NO favorables:\",b)\n",
        "print(\"\\nCasos favorables:\",a1,\"/Casos totales:\",t,\"; La probabilidad de obtener 21 en 3 cartas en la baraja Española es aproximadamente:\",prob_3_cardsE , \" o \", prob_3_cardsE*100 , \"%\")\n",
        "print(\"Casos NO favorables:\",b1)"
      ],
      "execution_count": 5,
      "outputs": [
        {
          "output_type": "stream",
          "text": [
            "Casos favorables: 726885 /Casos totales: 10000000 ; La probabilidad de obtener 21 en 3 cartas en la baraja de poker es aproximadamente: 0.0726885  o  7.2688500000000005 %\n",
            "Casos NO favorables: 9273115\n",
            "\n",
            "Casos favorables: 613209 /Casos totales: 10000000 ; La probabilidad de obtener 21 en 3 cartas en la baraja Española es aproximadamente: 0.0613209  o  6.13209 %\n",
            "Casos NO favorables: 9386791\n"
          ],
          "name": "stdout"
        }
      ]
    },
    {
      "cell_type": "markdown",
      "metadata": {
        "id": "vUP7_CRwctn1"
      },
      "source": [
        "### *Estimando probabilidad para 4 cartas.*"
      ]
    },
    {
      "cell_type": "code",
      "metadata": {
        "colab": {
          "base_uri": "https://localhost:8080/"
        },
        "id": "pJguOa3eSYfF",
        "outputId": "05064c83-1253-498e-9388-c3bb43cfde43"
      },
      "source": [
        "# Probabilidad para cuatro cartas\n",
        "\n",
        "#------------------BARAJA POKER------------------\n",
        "cartas=[\"As\",1,2,3,4,5,6,7,8,9,10,\"J\",\"Q\",\"K\"]\n",
        "valores=[1,11,2,3,4,5,6,7,8,9,10 ,10 ,10,10, \n",
        "         1,11,2,3,4,5,6,7,8,9,10 ,10 ,10,10, \n",
        "         1,11,2,3,4,5,6,7,8,9,10 ,10 ,10,10, \n",
        "         1,11,2,3,4,5,6,7,8,9,10 ,10 ,10,10]\n",
        "#------------------BARAJA ESPAÑOLA---------------\n",
        "valoresE=[1,2,3,4,5,6,7,8,9,10,11,12, \n",
        "          1,2,3,4,5,6,7,8,9,10,11,12, \n",
        "          1,2,3,4,5,6,7,8,9,10,11,12, \n",
        "          1,2,3,4,5,6,7,8,9,10,11,12]\n",
        "\n",
        "a = 0\n",
        "b = 0\n",
        "a1 = 0\n",
        "b1 = 0\n",
        "t = 10000000\n",
        "\n",
        "for i in range(0,t):\n",
        "  n = choice(valores)\n",
        "  m = choice(valores)\n",
        "  o = choice(valores)\n",
        "  p = choice(valores)\n",
        "  n1 = choice(valoresE)\n",
        "  m1 = choice(valoresE)\n",
        "  o1 = choice(valoresE)\n",
        "  p1 = choice(valoresE)\n",
        "  if (n + m + o + p) == 21:\n",
        "    a = a + 1   \n",
        "  else:\n",
        "    b = b + 1\n",
        "  if (n1 + m1 + o1 + p1) == 21:\n",
        "    a1 = a1 + 1 \n",
        "  else:\n",
        "    b1 = b1 + 1\n",
        "\n",
        "prob_4_cards = (a/t)\n",
        "prob_4_cardsE = (a1/t)\n",
        "    \n",
        "print(\"Casos favorables:\",a,\"/Casos totales:\",t,\"; La probabilidad de obtener 21 en 4 cartas en la baraja de poker es aproximadamente:\",prob_4_cards , \" o \", prob_4_cards*100, \"%\")\n",
        "print(\"Casos NO favorables:\",b)\n",
        "print(\"\\nCasos favorables:\",a1,\"/Casos totales:\",t,\"; La probabilidad de obtener 21 en 2 cartas en la baraja Española es aproximadamente:\",prob_4_cardsE , \" o \", prob_4_cardsE*100 , \"%\")\n",
        "print(\"Casos NO favorables:\",b1)"
      ],
      "execution_count": 7,
      "outputs": [
        {
          "output_type": "stream",
          "text": [
            "Casos favorables: 348946 /Casos totales: 10000000 ; La probabilidad de obtener 21 en 4 cartas en la baraja de poker es aproximadamente: 0.0348946  o  3.48946 %\n",
            "Casos NO favorables: 9651054\n",
            "\n",
            "Casos favorables: 441066 /Casos totales: 10000000 ; La probabilidad de obtener 21 en 2 cartas en la baraja Española es aproximadamente: 0.0441066  o  4.41066 %\n",
            "Casos NO favorables: 9558934\n"
          ],
          "name": "stdout"
        }
      ]
    },
    {
      "cell_type": "markdown",
      "metadata": {
        "id": "ZCvOucTMcvdq"
      },
      "source": [
        "### *Estimando probabilidad para 5 cartas.*"
      ]
    },
    {
      "cell_type": "code",
      "metadata": {
        "colab": {
          "base_uri": "https://localhost:8080/"
        },
        "id": "57L9mhYZPEpq",
        "outputId": "f1e45903-93b3-4ca4-9ead-676e96ae732d"
      },
      "source": [
        "# Probabilidad para cinco cartas\n",
        "\n",
        "#------------------BARAJA POKER------------------\n",
        "cartas=[\"As\",1,2,3,4,5,6,7,8,9,10,\"J\",\"Q\",\"K\"]\n",
        "valores=[0,2,3,4,5,6,7,8,9,10 ,10 ,10,10, \n",
        "         0,2,3,4,5,6,7,8,9,10 ,10 ,10,10, \n",
        "         0,2,3,4,5,6,7,8,9,10 ,10 ,10,10, \n",
        "         0,2,3,4,5,6,7,8,9,10 ,10 ,10,10]\n",
        "#------------------BARAJA ESPAÑOLA---------------\n",
        "valoresE=[1,2,3,4,5,6,7,8,9,10,11,12, \n",
        "          1,2,3,4,5,6,7,8,9,10,11,12, \n",
        "          1,2,3,4,5,6,7,8,9,10,11,12, \n",
        "          1,2,3,4,5,6,7,8,9,10,11,12]\n",
        "\n",
        "a = 0\n",
        "b = 0\n",
        "a1 = 0\n",
        "b1 = 0\n",
        "t = 10000000\n",
        "\n",
        "for i in range(0,t):\n",
        "  n = random.sample(valores,5)\n",
        "  m = random.sample(valoresE,5)\n",
        "  for j in range(0,len(n)):\n",
        "    if (n[j]==0):\n",
        "      n[j]=carta_As()\n",
        "  s1=sum(m)    \n",
        "  s = sum(n)\n",
        "  if (s==21):\n",
        "    a+=1\n",
        "  else:\n",
        "    b+=1\n",
        "  if (s1==21):\n",
        "    a1+=1\n",
        "  else:\n",
        "    b1+=1\n",
        "\n",
        "prob_5_cards = (a/t)\n",
        "prob_5_cardsE = (a1/t)\n",
        "print(\"Casos favorables:\",a,\"/Casos totales:\",t,\"; \\nLa probabilidad de obtener 21 en 5 cartas en la baraja de poker es aproximadamente:\",prob_5_cards , \" o \", prob_5_cards*100, \"%\")\n",
        "print(\"Casos NO favorables:\",b)\n",
        "print(\"\\nCasos favorables:\",a1,\"/Casos totales:\",t,\"; \\nLa probabilidad de obtener 21 en 2 cartas en la baraja Española es aproximadamente:\",prob_5_cardsE , \" o \", prob_5_cardsE*100 , \"%\")\n",
        "print(\"Casos NO favorables:\",b1)  "
      ],
      "execution_count": 8,
      "outputs": [
        {
          "output_type": "stream",
          "text": [
            "Casos favorables: 82631 /Casos totales: 10000000 ; \n",
            "La probabilidad de obtener 21 en 5 cartas en la baraja de poker es aproximadamente: 0.0082631  o  0.8263100000000001 %\n",
            "Casos NO favorables: 9917369\n",
            "\n",
            "Casos favorables: 171385 /Casos totales: 10000000 ; \n",
            "La probabilidad de obtener 21 en 2 cartas en la baraja Española es aproximadamente: 0.0171385  o  1.71385 %\n",
            "Casos NO favorables: 9828615\n"
          ],
          "name": "stdout"
        }
      ]
    },
    {
      "cell_type": "markdown",
      "metadata": {
        "id": "CrzNAXRpcxbL"
      },
      "source": [
        "### *Estimando probabilidad para 6 cartas.*"
      ]
    },
    {
      "cell_type": "code",
      "metadata": {
        "colab": {
          "base_uri": "https://localhost:8080/"
        },
        "id": "sdDEIaLXgnPx",
        "outputId": "45d87c5f-252d-4305-eabc-81c6026a67f4"
      },
      "source": [
        "# Probabilidad para seis cartas\n",
        "\n",
        "#------------------BARAJA POKER------------------\n",
        "cartas=[\"As\",1,2,3,4,5,6,7,8,9,10,\"J\",\"Q\",\"K\"]\n",
        "valores=[0,2,3,4,5,6,7,8,9,10 ,10 ,10,10, \n",
        "         0,2,3,4,5,6,7,8,9,10 ,10 ,10,10, \n",
        "         0,2,3,4,5,6,7,8,9,10 ,10 ,10,10, \n",
        "         0,2,3,4,5,6,7,8,9,10 ,10 ,10,10]\n",
        "#------------------BARAJA ESPAÑOLA---------------\n",
        "valoresE=[1,2,3,4,5,6,7,8,9,10,11,12, \n",
        "          1,2,3,4,5,6,7,8,9,10,11,12, \n",
        "          1,2,3,4,5,6,7,8,9,10,11,12, \n",
        "          1,2,3,4,5,6,7,8,9,10,11,12]\n",
        "\n",
        "a = 0\n",
        "b = 0\n",
        "a1 = 0\n",
        "b1 = 0\n",
        "t = 10000000\n",
        "\n",
        "for i in range(0,t):\n",
        "  n = random.sample(valores,6)\n",
        "  m = random.sample(valoresE,6)\n",
        "  for j in range(0,len(n)):\n",
        "    if (n[j]==0):\n",
        "      n[j]=carta_As()\n",
        "  s1=sum(m)    \n",
        "  s = sum(n)\n",
        "  if (s==21):\n",
        "    a+=1\n",
        "  else:\n",
        "    b+=1\n",
        "  if (s1==21):\n",
        "    a1+=1\n",
        "  else:\n",
        "    b1+=1\n",
        "\n",
        "prob_6_cards = (a/t)\n",
        "prob_6_cardsE = (a1/t)\n",
        "print(\"Casos favorables:\",a,\"/Casos totales:\",t,\"; \\nLa probabilidad de obtener 21 en 6 cartas en la baraja de poker es aproximadamente:\",prob_6_cards , \" o \", prob_6_cards*100, \"%\")\n",
        "print(\"Casos NO favorables:\",b)\n",
        "print(\"\\nCasos favorables:\",a1,\"/Casos totales:\",t,\"; \\nLa probabilidad de obtener 21 en 6 cartas en la baraja Española es aproximadamente:\",prob_6_cardsE , \" o \", prob_6_cardsE*100 , \"%\")\n",
        "print(\"Casos NO favorables:\",b1)  "
      ],
      "execution_count": 9,
      "outputs": [
        {
          "output_type": "stream",
          "text": [
            "Casos favorables: 11522 /Casos totales: 10000000 ; \n",
            "La probabilidad de obtener 21 en 6 cartas en la baraja de poker es aproximadamente: 0.0011522  o  0.11521999999999999 %\n",
            "Casos NO favorables: 9988478\n",
            "\n",
            "Casos favorables: 40388 /Casos totales: 10000000 ; \n",
            "La probabilidad de obtener 21 en 6 cartas en la baraja Española es aproximadamente: 0.0040388  o  0.40388 %\n",
            "Casos NO favorables: 9959612\n"
          ],
          "name": "stdout"
        }
      ]
    },
    {
      "cell_type": "markdown",
      "metadata": {
        "id": "Tkwfi3vrczlc"
      },
      "source": [
        "### *Estimando probabilidad para 7 cartas.*"
      ]
    },
    {
      "cell_type": "code",
      "metadata": {
        "colab": {
          "base_uri": "https://localhost:8080/"
        },
        "id": "2MYcyQM6hIoz",
        "outputId": "1ca73546-6e84-49ad-c71a-d685f95766ef"
      },
      "source": [
        "# Probabilidad para siete cartas\n",
        "\n",
        "#------------------BARAJA POKER------------------\n",
        "cartas=[\"As\",1,2,3,4,5,6,7,8,9,10,\"J\",\"Q\",\"K\"]\n",
        "valores=[0,2,3,4,5,6,7,8,9,10 ,10 ,10,10, \n",
        "         0,2,3,4,5,6,7,8,9,10 ,10 ,10,10, \n",
        "         0,2,3,4,5,6,7,8,9,10 ,10 ,10,10, \n",
        "         0,2,3,4,5,6,7,8,9,10 ,10 ,10,10]\n",
        "#------------------BARAJA ESPAÑOLA---------------\n",
        "valoresE=[1,2,3,4,5,6,7,8,9,10,11,12, \n",
        "          1,2,3,4,5,6,7,8,9,10,11,12, \n",
        "          1,2,3,4,5,6,7,8,9,10,11,12, \n",
        "          1,2,3,4,5,6,7,8,9,10,11,12]\n",
        "\n",
        "a = 0\n",
        "b = 0\n",
        "a1 = 0\n",
        "b1 = 0\n",
        "t = 10000000\n",
        "\n",
        "for i in range(0,t):\n",
        "  n = random.sample(valores,7)\n",
        "  m = random.sample(valoresE,7)\n",
        "  for j in range(0,len(n)):\n",
        "    if (n[j]==0):\n",
        "      n[j]=carta_As()\n",
        "  s1=sum(m)    \n",
        "  s = sum(n)\n",
        "  if (s==21):\n",
        "    a+=1\n",
        "  else:\n",
        "    b+=1\n",
        "  if (s1==21):\n",
        "    a1+=1\n",
        "  else:\n",
        "    b1+=1\n",
        "\n",
        "prob_7_cards = (a/t)\n",
        "prob_7_cardsE = (a1/t)\n",
        "print(\"Casos favorables:\",a,\"/Casos totales:\",t,\"; \\nLa probabilidad de obtener 21 en 7 cartas en la baraja de poker es aproximadamente:\",prob_7_cards , \" o \", prob_7_cards*100, \"%\")\n",
        "print(\"Casos NO favorables:\",b)\n",
        "print(\"\\nCasos favorables:\",a1,\"/Casos totales:\",t,\"; \\nLa probabilidad de obtener 21 en 7 cartas en la baraja Española es aproximadamente:\",prob_7_cardsE , \" o \", prob_7_cardsE*100 , \"%\")\n",
        "print(\"Casos NO favorables:\",b1)  "
      ],
      "execution_count": 11,
      "outputs": [
        {
          "output_type": "stream",
          "text": [
            "Casos favorables: 1025 /Casos totales: 10000000 ; \n",
            "La probabilidad de obtener 21 en 7 cartas en la baraja de poker es aproximadamente: 0.0001025  o  0.01025 %\n",
            "Casos NO favorables: 9998975\n",
            "\n",
            "Casos favorables: 6056 /Casos totales: 10000000 ; \n",
            "La probabilidad de obtener 21 en 7 cartas en la baraja Española es aproximadamente: 0.0006056  o  0.060559999999999996 %\n",
            "Casos NO favorables: 9993944\n"
          ],
          "name": "stdout"
        }
      ]
    },
    {
      "cell_type": "markdown",
      "metadata": {
        "id": "nh9C0fvZLC4V"
      },
      "source": [
        "### *Estimando probabilidad para 8 cartas.*"
      ]
    },
    {
      "cell_type": "code",
      "metadata": {
        "colab": {
          "base_uri": "https://localhost:8080/"
        },
        "id": "eCTmAAo5K_sv",
        "outputId": "1c32f5b8-3f52-4fe6-ba49-70f305e65d01"
      },
      "source": [
        "# Probabilidad para ocho cartas\n",
        "#------------------BARAJA POKER------------------\n",
        "cartas=[\"As\",1,2,3,4,5,6,7,8,9,10,\"J\",\"Q\",\"K\"]\n",
        "valores=[0,2,3,4,5,6,7,8,9,10 ,10 ,10,10, \n",
        "         0,2,3,4,5,6,7,8,9,10 ,10 ,10,10, \n",
        "         0,2,3,4,5,6,7,8,9,10 ,10 ,10,10, \n",
        "         0,2,3,4,5,6,7,8,9,10 ,10 ,10,10]\n",
        "#------------------BARAJA ESPAÑOLA---------------\n",
        "valoresE=[1,2,3,4,5,6,7,8,9,10,11,12, \n",
        "          1,2,3,4,5,6,7,8,9,10,11,12, \n",
        "          1,2,3,4,5,6,7,8,9,10,11,12, \n",
        "          1,2,3,4,5,6,7,8,9,10,11,12]\n",
        "\n",
        "a = 0\n",
        "b = 0\n",
        "a1 = 0\n",
        "b1 = 0\n",
        "t = 10000000\n",
        "\n",
        "for i in range(0,t):\n",
        "  n = random.sample(valores,8)\n",
        "  m = random.sample(valoresE,8)\n",
        "  for j in range(0,len(n)):\n",
        "    if (n[j]==0):\n",
        "      n[j]=carta_As()\n",
        "  s1=sum(m)    \n",
        "  s = sum(n)\n",
        "  if (s==21):\n",
        "    a+=1\n",
        "  else:\n",
        "    b+=1\n",
        "  if (s1==21):\n",
        "    a1+=1\n",
        "  else:\n",
        "    b1+=1\n",
        "\n",
        "prob_8_cards = (a/t)\n",
        "prob_8_cardsE = (a1/t)\n",
        "print(\"Casos favorables:\",a,\"/Casos totales:\",t,\"; \\nLa probabilidad de obtener 21 en 8 cartas en la baraja de poker es aproximadamente:\",prob_8_cards , \" o \", prob_8_cards*100, \"%\")\n",
        "print(\"Casos NO favorables:\",b)\n",
        "print(\"\\nCasos favorables:\",a1,\"/Casos totales:\",t,\"; \\nLa probabilidad de obtener 21 en 8 cartas en la baraja Española es aproximadamente:\",prob_8_cardsE , \" o \", prob_8_cardsE*100 , \"%\")\n",
        "print(\"Casos NO favorables:\",b1)  "
      ],
      "execution_count": 13,
      "outputs": [
        {
          "output_type": "stream",
          "text": [
            "Casos favorables: 47 /Casos totales: 10000000 ; \n",
            "La probabilidad de obtener 21 en 8 cartas en la baraja de poker es aproximadamente: 4.7e-06  o  0.00047 %\n",
            "Casos NO favorables: 9999953\n",
            "\n",
            "Casos favorables: 533 /Casos totales: 10000000 ; \n",
            "La probabilidad de obtener 21 en 8 cartas en la baraja Española es aproximadamente: 5.33e-05  o  0.0053300000000000005 %\n",
            "Casos NO favorables: 9999467\n"
          ],
          "name": "stdout"
        }
      ]
    },
    {
      "cell_type": "markdown",
      "metadata": {
        "id": "VvdODPKdMj2y"
      },
      "source": [
        "### *Estimando probabilidad para 9 cartas.*"
      ]
    },
    {
      "cell_type": "code",
      "metadata": {
        "colab": {
          "base_uri": "https://localhost:8080/"
        },
        "id": "5CgrEcWxMxR4",
        "outputId": "9648e911-46dc-4a6d-d50a-5d30e4796a99"
      },
      "source": [
        "# Probabilidad para 9 cartas\n",
        "#------------------BARAJA POKER------------------\n",
        "cartas=[\"As\",1,2,3,4,5,6,7,8,9,10,\"J\",\"Q\",\"K\"]\n",
        "valores=[0,2,3,4,5,6,7,8,9,10 ,10 ,10,10, \n",
        "         0,2,3,4,5,6,7,8,9,10 ,10 ,10,10, \n",
        "         0,2,3,4,5,6,7,8,9,10 ,10 ,10,10, \n",
        "         0,2,3,4,5,6,7,8,9,10 ,10 ,10,10]\n",
        "#------------------BARAJA ESPAÑOLA---------------\n",
        "valoresE=[1,2,3,4,5,6,7,8,9,10,11,12, \n",
        "          1,2,3,4,5,6,7,8,9,10,11,12, \n",
        "          1,2,3,4,5,6,7,8,9,10,11,12, \n",
        "          1,2,3,4,5,6,7,8,9,10,11,12]\n",
        "\n",
        "a = 0\n",
        "b = 0\n",
        "a1 = 0\n",
        "b1 = 0\n",
        "t = 10000000\n",
        "\n",
        "for i in range(0,t):\n",
        "  n = random.sample(valores,9)\n",
        "  m = random.sample(valoresE,9)\n",
        "  for j in range(0,len(n)):\n",
        "    if (n[j]==0):\n",
        "      n[j]=carta_As()\n",
        "  s1=sum(m)    \n",
        "  s = sum(n)\n",
        "  if (s==21):\n",
        "    a+=1\n",
        "  else:\n",
        "    b+=1\n",
        "  if (s1==21):\n",
        "    a1+=1\n",
        "  else:\n",
        "    b1+=1\n",
        "\n",
        "prob_9_cards = (a/t)\n",
        "prob_9_cardsE = (a1/t)\n",
        "print(\"Casos favorables:\",a,\"/Casos totales:\",t,\"; \\nLa probabilidad de obtener 21 en 9 cartas en la baraja de poker es aproximadamente:\",prob_9_cards , \" o \", prob_9_cards*100, \"%\")\n",
        "print(\"Casos NO favorables:\",b)\n",
        "print(\"\\nCasos favorables:\",a1,\"/Casos totales:\",t,\"; \\nLa probabilidad de obtener 21 en 9 cartas en la baraja Española es aproximadamente:\",prob_9_cardsE , \" o \", prob_9_cardsE*100 , \"%\")\n",
        "print(\"Casos NO favorables:\",b1)  "
      ],
      "execution_count": 18,
      "outputs": [
        {
          "output_type": "stream",
          "text": [
            "Casos favorables: 4 /Casos totales: 10000000 ; \n",
            "La probabilidad de obtener 21 en 9 cartas en la baraja de poker es aproximadamente: 4e-07  o  3.9999999999999996e-05 %\n",
            "Casos NO favorables: 9999996\n",
            "\n",
            "Casos favorables: 37 /Casos totales: 10000000 ; \n",
            "La probabilidad de obtener 21 en 9 cartas en la baraja Española es aproximadamente: 3.7e-06  o  0.00037 %\n",
            "Casos NO favorables: 9999963\n"
          ],
          "name": "stdout"
        }
      ]
    },
    {
      "cell_type": "markdown",
      "metadata": {
        "id": "dyvHbsWgMrSz"
      },
      "source": [
        "### *Estimando probabilidad para 10 cartas.*"
      ]
    },
    {
      "cell_type": "code",
      "metadata": {
        "colab": {
          "base_uri": "https://localhost:8080/"
        },
        "id": "1ZGN8LCdNC_6",
        "outputId": "c650a4ef-c743-42be-f072-6d79336ec066"
      },
      "source": [
        "# Probabilidad para 10 cartas\n",
        "#------------------BARAJA POKER------------------\n",
        "cartas=[\"As\",1,2,3,4,5,6,7,8,9,10,\"J\",\"Q\",\"K\"]\n",
        "valores=[0,2,3,4,5,6,7,8,9,10 ,10 ,10,10, \n",
        "         0,2,3,4,5,6,7,8,9,10 ,10 ,10,10, \n",
        "         0,2,3,4,5,6,7,8,9,10 ,10 ,10,10, \n",
        "         0,2,3,4,5,6,7,8,9,10 ,10 ,10,10]\n",
        "#------------------BARAJA ESPAÑOLA---------------\n",
        "valoresE=[1,2,3,4,5,6,7,8,9,10,11,12, \n",
        "          1,2,3,4,5,6,7,8,9,10,11,12, \n",
        "          1,2,3,4,5,6,7,8,9,10,11,12, \n",
        "          1,2,3,4,5,6,7,8,9,10,11,12]\n",
        "\n",
        "a = 0\n",
        "b = 0\n",
        "a1 = 0\n",
        "b1 = 0\n",
        "t = 10000000\n",
        "\n",
        "for i in range(0,t):\n",
        "  n = random.sample(valores,10)\n",
        "  m = random.sample(valoresE,10)\n",
        "  for j in range(0,len(n)):\n",
        "    if (n[j]==0):\n",
        "      n[j]=carta_As()\n",
        "  s1=sum(m)    \n",
        "  s = sum(n)\n",
        "  if (s==21):\n",
        "    a+=1\n",
        "  else:\n",
        "    b+=1\n",
        "  if (s1==21):\n",
        "    a1+=1\n",
        "  else:\n",
        "    b1+=1\n",
        "\n",
        "prob_10_cards = (a/t)\n",
        "prob_10_cardsE = (a1/t)\n",
        "print(\"Casos favorables:\",a,\"/Casos totales:\",t,\"; \\nLa probabilidad de obtener 21 en 10 cartas en la baraja de poker es aproximadamente:\",prob_10_cards , \" o \", prob_10_cards*100, \"%\")\n",
        "print(\"Casos NO favorables:\",b)\n",
        "print(\"\\nCasos favorables:\",a1,\"/Casos totales:\",t,\"; \\nLa probabilidad de obtener 21 en 10 cartas en la baraja Española es aproximadamente:\",prob_10_cardsE , \" o \", prob_10_cardsE*100 , \"%\")\n",
        "print(\"Casos NO favorables:\",b1)  "
      ],
      "execution_count": 20,
      "outputs": [
        {
          "output_type": "stream",
          "text": [
            "Casos favorables: 0 /Casos totales: 10000000 ; \n",
            "La probabilidad de obtener 21 en 10 cartas en la baraja de poker es aproximadamente: 0.0  o  0.0 %\n",
            "Casos NO favorables: 10000000\n",
            "\n",
            "Casos favorables: 0 /Casos totales: 10000000 ; \n",
            "La probabilidad de obtener 21 en 10 cartas en la baraja Española es aproximadamente: 0.0  o  0.0 %\n",
            "Casos NO favorables: 10000000\n"
          ],
          "name": "stdout"
        }
      ]
    },
    {
      "cell_type": "markdown",
      "metadata": {
        "id": "asp8YaFvMskU"
      },
      "source": [
        "### *Estimando probabilidad para 11 cartas.*"
      ]
    },
    {
      "cell_type": "code",
      "metadata": {
        "colab": {
          "base_uri": "https://localhost:8080/"
        },
        "id": "1bnRAXlGNbg0",
        "outputId": "d7d6f825-85dc-49c7-e363-9fc56d69f5a7"
      },
      "source": [
        "# Probabilidad para 11 cartas\n",
        "#------------------BARAJA POKER------------------\n",
        "cartas=[\"As\",1,2,3,4,5,6,7,8,9,10,\"J\",\"Q\",\"K\"]\n",
        "valores=[0,2,3,4,5,6,7,8,9,10 ,10 ,10,10, \n",
        "         0,2,3,4,5,6,7,8,9,10 ,10 ,10,10, \n",
        "         0,2,3,4,5,6,7,8,9,10 ,10 ,10,10, \n",
        "         0,2,3,4,5,6,7,8,9,10 ,10 ,10,10]\n",
        "#------------------BARAJA ESPAÑOLA---------------\n",
        "valoresE=[1,2,3,4,5,6,7,8,9,10,11,12, \n",
        "          1,2,3,4,5,6,7,8,9,10,11,12, \n",
        "          1,2,3,4,5,6,7,8,9,10,11,12, \n",
        "          1,2,3,4,5,6,7,8,9,10,11,12]\n",
        "\n",
        "a = 0\n",
        "b = 0\n",
        "a1 = 0\n",
        "b1 = 0\n",
        "t = 10000000\n",
        "\n",
        "for i in range(0,t):\n",
        "  n = random.sample(valores,11)\n",
        "  m = random.sample(valoresE,11)\n",
        "  for j in range(0,len(n)):\n",
        "    if (n[j]==0):\n",
        "      n[j]=carta_As()\n",
        "  s1=sum(m)    \n",
        "  s = sum(n)\n",
        "  if (s==21):\n",
        "    a+=1\n",
        "  else:\n",
        "    b+=1\n",
        "  if (s1==21):\n",
        "    a1+=1\n",
        "  else:\n",
        "    b1+=1\n",
        "\n",
        "prob_11_cards = (a/t)\n",
        "prob_11_cardsE = (a1/t)\n",
        "print(\"Casos favorables:\",a,\"/Casos totales:\",t,\"; \\nLa probabilidad de obtener 21 en 11 cartas en la baraja de poker es aproximadamente:\",prob_11_cards , \" o \", prob_11_cards*100, \"%\")\n",
        "print(\"Casos NO favorables:\",b)\n",
        "print(\"\\nCasos favorables:\",a1,\"/Casos totales:\",t,\"; \\nLa probabilidad de obtener 21 en 11 cartas en la baraja Española es aproximadamente:\",prob_11_cardsE , \" o \", prob_11_cardsE*100 , \"%\")\n",
        "print(\"Casos NO favorables:\",b1)  "
      ],
      "execution_count": 22,
      "outputs": [
        {
          "output_type": "stream",
          "text": [
            "Casos favorables: 0 /Casos totales: 10000000 ; \n",
            "La probabilidad de obtener 21 en 11 cartas en la baraja de poker es aproximadamente: 0.0  o  0.0 %\n",
            "Casos NO favorables: 10000000\n",
            "\n",
            "Casos favorables: 0 /Casos totales: 10000000 ; \n",
            "La probabilidad de obtener 21 en 11 cartas en la baraja Española es aproximadamente: 0.0  o  0.0 %\n",
            "Casos NO favorables: 10000000\n"
          ],
          "name": "stdout"
        }
      ]
    },
    {
      "cell_type": "markdown",
      "metadata": {
        "id": "43Btvv7-c_4N"
      },
      "source": [
        "## **Trazando distribución experimental**"
      ]
    },
    {
      "cell_type": "code",
      "metadata": {
        "colab": {
          "base_uri": "https://localhost:8080/",
          "height": 455
        },
        "id": "oKVn3TaShgrL",
        "outputId": "a2b810ed-afb8-42c5-e05d-b9da33b5b131"
      },
      "source": [
        "# Importando librerías necesarias para graficar\n",
        "\n",
        "import matplotlib\n",
        "import matplotlib.pyplot as plt\n",
        "import numpy as np\n",
        "\n",
        "li = []\n",
        "liE = []\n",
        "barwidth = 0.5\n",
        "# Creamos un arreglo para las etiquetas en y\n",
        "va = [\"2 cartas\",\"3 cartas\",\"4 cartas\",\"5 cartas\",\"6 cartas\",\"7 cartas\", \"8 cartas\",\"9 cartas\",\"10 cartas\",\"11 cartas\"]\n",
        "# Guardamos en un arreglo las probabilidades obtenidas\n",
        "probabilidades = [prob_2_cards, prob_3_cards, prob_4_cards, prob_5_cards, prob_6_cards, prob_7_cards, prob_8_cards,prob_9_cards,prob_10_cards,prob_11_cards]\n",
        "# Limito los decimales a 4 dígitos \n",
        "for i in probabilidades:\n",
        "  x = (round(i, 5))\n",
        "  li.append(x)\n",
        "# Española\n",
        "probabilidadesE = [prob_2_cardsE, prob_3_cardsE, prob_4_cardsE, prob_5_cardsE, prob_6_cardsE, prob_7_cardsE, prob_8_cardsE,prob_9_cardsE,prob_10_cardsE,prob_11_cardsE]\n",
        "for i in probabilidadesE:\n",
        "  x1 = (round(i, 5))\n",
        "  liE.append(x1)\n",
        "# Obtenemos una lista con las posiciones de cada carta\n",
        "y_pos = np.arange(len(probabilidades))\n",
        "y_posE = [x + .5 for x in y_pos]\n",
        "\n",
        "plt.figure(figsize = (25,14))\n",
        "# Creamos la grafica pasando los valores en el eje X, Y, donde X = probabilidad y Y = nº de cartas\n",
        "poker = plt.barh(y_pos, li, height = 0.5, align='center', color = 'darkslateblue', label = \"Poker\")\n",
        "espanola = plt.barh(y_posE, liE, height = 0.5, align='center', color = 'salmon', label = \"Española\")\n",
        "# Añadimos las etiquetas de nombres\n",
        "plt.yticks(y_pos, va)\n",
        "# Aññadimos anotaciones a las barras\n",
        "for i, v in enumerate(li):\n",
        "  plt.text(v + .0002, i + .01, str(v), color='blue', fontweight='bold')\n",
        "for j, w in enumerate(liE):\n",
        "  plt.text(w + .0002, j + .5, str(w), color='darkred', fontweight='bold')\n",
        "# Etiquetas ejes\n",
        "plt.xlabel('Probabilidad (%)', fontsize = 16, fontweight ='bold')\n",
        "plt.ylabel('Nº de cartas \\n', fontsize = 16, fontweight ='bold')\n",
        "plt.legend(fontsize = 14)\n",
        "plt.grid(True)\n",
        "# Y una etiqueta superior\n",
        "plt.title('Probabilidades de obtener 21 Blackjack\\n', fontsize = 26, fontweight ='bold')\n",
        "plt.show()"
      ],
      "execution_count": 23,
      "outputs": [
        {
          "output_type": "display_data",
          "data": {
            "image/png": "[encoded data removed]",
            "text/plain": [
              "<Figure size 1800x1008 with 1 Axes>"
            ]
          },
          "metadata": {
            "tags": [],
            "needs_background": "light"
          }
        }
      ]
    },
    {
      "cell_type": "markdown",
      "metadata": {
        "id": "AnzxgM38dQiW"
      },
      "source": [
        "## **Estimando la probabilidad de obtener BlackJack 21 y el promedio de cartas necesarias, para una baraja de Poker y para una baraja Española.**"
      ]
    },
    {
      "cell_type": "markdown",
      "metadata": {
        "id": "58G7cWwXCPJZ"
      },
      "source": [
        "> *Probabilidad para una mano = [7,7,5] y quedan n/2 en el mazo restante de obtener 21 Blackjack.*\n",
        "\n",
        "> *Para este caso solo se necesitan máximo dos cartas, pues al obtener dos cartas con valor 1, se completa el 21, o al obtener solo una carta con valor 2, se obtiene el 21. Para más de tres cartas siempre sobrepasaría el 21.*"
      ]
    },
    {
      "cell_type": "code",
      "metadata": {
        "colab": {
          "base_uri": "https://localhost:8080/"
        },
        "id": "qGD8vjpM0Jhv",
        "outputId": "1adbb57e-87ed-4024-a7c5-845036daf2f8"
      },
      "source": [
        "# Probabilidad para mano = [7,7,5] y quedan n/2 en el mazo restante pidiendo 1 carta\n",
        "\n",
        "#------------------BARAJA POKER------------------\n",
        "cartas=[\"As\",1,2,3,4,5,6,7,8,9,10,\"J\",\"Q\",\"K\"]\n",
        "valor=[0,2,3,4,5,6,7,8,9,10 ,10 ,10,10, \n",
        "       0,2,3,4,5,6,7,8,9,10 ,10 ,10,10, \n",
        "       0,2,3,4,5,6,7,8,9,10 ,10 ,10,10, \n",
        "       0,2,3,4,5,6,7,8,9,10 ,10 ,10,10]\n",
        "#------------------BARAJA ESPAÑOLA---------------\n",
        "valoresE=[1,2,3,4,5,6,7,8,9,10,11,12, \n",
        "          1,2,3,4,5,6,7,8,9,10,11,12, \n",
        "          1,2,3,4,5,6,7,8,9,10,11,12, \n",
        "          1,2,3,4,5,6,7,8,9,10,11,12]\n",
        "#------------------BARAJA EN MANO--------------\n",
        "mano = [7,7,5]\n",
        "\n",
        "a = 0\n",
        "b = 0\n",
        "a1 = 0\n",
        "b1 = 0\n",
        "t = 10000000\n",
        "\n",
        "for l in mano:\n",
        "  # Se suma la lista \"mano\"\n",
        "  s = sum(mano)\n",
        "#print(s)\n",
        "\n",
        "# Simulaciones\n",
        "for i in range (0, t):\n",
        "  # Selecciona una carta de n/2 cartas del mazo restante \"Poker\"\n",
        "  c = valor[random.randrange(0, 27)]\n",
        "  c1 = carta_As(c)\n",
        "  #print(c1)\n",
        "  # Selecciona una carta de n/2 cartas del mazo restante \"Española\"\n",
        "  cE = valoresE[random.randrange(0, 25)]\n",
        "  #print(cE)\n",
        "  if (s + c1) == 21:\n",
        "    a = a + 1\n",
        "    #print(\"c1=\", s, c1, s+c1, end= \"\\n\")\n",
        "  else:\n",
        "    b = b + 1 \n",
        "  if (s + cE) == 21:\n",
        "    a1 = a1 + 1\n",
        "    #print(\"cE=\", s, cE, s+cE, end= \"\\n\")\n",
        "  else:\n",
        "    b1 = b1 + 1\n",
        "\n",
        "prob_mano1 = (a/t)\n",
        "prob_manoE1 = (a1/t)\n",
        "\n",
        "print(\"Casos favorables:\",a,\"/Casos totales:\",t,\"; La probabilidad de obtener 21 con una mano de [7,7,5] y media baraja de Poker restante es aproximadamente:\",prob_mano1 , \" o \", prob_mano1*100, \"%\")\n",
        "print(\"Casos favorables:\",a1,\"/Casos totales:\",t,\"; La probabilidad de obtener 21 con una mano de [7,7,5] y media baraja Española restante es aproximadamente:\",prob_manoE1, \" o \", prob_manoE1*100, \"%\")"
      ],
      "execution_count": null,
      "outputs": [
        {
          "output_type": "stream",
          "text": [
            "Casos favorables: 740978 /Casos totales: 10000000 ; La probabilidad de obtener 21 con una mano de [7,7,5] y media baraja de Poker restante es aproximadamente: 0.0740978  o  7.4097800000000005 %\n",
            "Casos favorables: 799544 /Casos totales: 10000000 ; La probabilidad de obtener 21 con una mano de [7,7,5] y media baraja Española restante es aproximadamente: 0.0799544  o  7.995439999999999 %\n"
          ],
          "name": "stdout"
        }
      ]
    },
    {
      "cell_type": "code",
      "metadata": {
        "colab": {
          "base_uri": "https://localhost:8080/"
        },
        "id": "0wvBGiNIYTx_",
        "outputId": "89f39dbb-8a4a-4dcf-a3d6-38934fde0205"
      },
      "source": [
        "# Probabilidad para mano = [7,7,5] y quedan n/2 en el mazo restante pidiendo 2 cartas\n",
        "\n",
        "\n",
        "#------------------BARAJA POKER------------------\n",
        "cartas=[\"As\",1,2,3,4,5,6,7,8,9,10,\"J\",\"Q\",\"K\"]\n",
        "valor=[0,2,3,4,5,6,7,8,9,10 ,10 ,10,10, \n",
        "       0,2,3,4,5,6,7,8,9,10 ,10 ,10,10, \n",
        "       0,2,3,4,5,6,7,8,9,10 ,10 ,10,10, \n",
        "       0,2,3,4,5,6,7,8,9,10 ,10 ,10,10]\n",
        "#------------------BARAJA ESPAÑOLA---------------\n",
        "valoresE=[1,2,3,4,5,6,7,8,9,10,11,12, \n",
        "          1,2,3,4,5,6,7,8,9,10,11,12, \n",
        "          1,2,3,4,5,6,7,8,9,10,11,12, \n",
        "          1,2,3,4,5,6,7,8,9,10,11,12]\n",
        "#------------------BARAJA EN MANO--------------\n",
        "mano = [7,7,5]\n",
        "\n",
        "a = 0\n",
        "b = 0\n",
        "a1 = 0\n",
        "b1 = 0\n",
        "t = 10000000\n",
        "\n",
        "for l in mano:\n",
        "  # Se suma la lista \"mano\"\n",
        "  s = sum(mano)\n",
        "#print(s)\n",
        "\n",
        "# Simulaciones\n",
        "for i in range (0, t):\n",
        "  # Selecciona una carta de n/2 cartas del mazo restante \"Poker\"\n",
        "  c = valor[random.randrange(0, 27)]\n",
        "  c1 = carta_As(c)\n",
        "  c2 = valor[random.randrange(0, 27)]\n",
        "  c3 = carta_As(c2)\n",
        "  #print(c1)\n",
        "  # Selecciona una carta de n/2 cartas del mazo restante \"Española\"\n",
        "  cE = valoresE[random.randrange(0, 25)]\n",
        "  cE2 = valoresE[random.randrange(0, 25)]\n",
        "  #print(cE)\n",
        "  if (s + c1 + c3) == 21:\n",
        "    a = a + 1\n",
        "    #print(\"c1=\", s, c1, s+c1, end= \"\\n\")\n",
        "  else:\n",
        "    b = b + 1 \n",
        "  if (s + cE + cE2) == 21:\n",
        "    a1 = a1 + 1\n",
        "    #print(\"cE=\", s, cE, s+cE, end= \"\\n\")\n",
        "  else:\n",
        "    b1 = b1 + 1\n",
        "\n",
        "prob_mano2 = (a/t)\n",
        "prob_manoE2 = (a1/t)\n",
        "\n",
        "print(\"Casos favorables:\",a,\"/Casos totales:\",t,\"; La probabilidad de obtener 21 con una mano de [7,7,5] y media baraja de Poker restante es aproximadamente:\",prob_mano2 , \" o \", prob_mano2*100, \"%\")\n",
        "print(\"Casos favorables:\",a1,\"/Casos totales:\",t,\"; La probabilidad de obtener 21 con una mano de [7,7,5] y media baraja Española restante es aproximadamente:\",prob_mano2 , \" o \", prob_manoE2*100, \"%\")"
      ],
      "execution_count": null,
      "outputs": [
        {
          "output_type": "stream",
          "text": [
            "Casos favorables: 30995 /Casos totales: 10000000 ; La probabilidad de obtener 21 con una mano de [7,7,5] y media baraja de Poker restante es aproximadamente: 0.0030995  o  0.30995 %\n",
            "Casos favorables: 144263 /Casos totales: 10000000 ; La probabilidad de obtener 21 con una mano de [7,7,5] y media baraja Española restante es aproximadamente: 0.0030995  o  1.4426299999999999 %\n"
          ],
          "name": "stdout"
        }
      ]
    },
    {
      "cell_type": "markdown",
      "metadata": {
        "id": "fdFIkzOSBTiC"
      },
      "source": [
        "## **Trazando distribución experimental**"
      ]
    },
    {
      "cell_type": "code",
      "metadata": {
        "colab": {
          "base_uri": "https://localhost:8080/",
          "height": 558
        },
        "id": "1-_KBq0PBMfN",
        "outputId": "9d7d78a6-3801-423f-e536-f7b0b9ef442b"
      },
      "source": [
        "# Importando librerías necesarias para graficar\n",
        "\n",
        "import matplotlib\n",
        "import matplotlib.pyplot as plt\n",
        "import numpy as np\n",
        "\n",
        "li = []\n",
        "liE = []\n",
        "barwidth = 0.5\n",
        "# Creamos un arreglo para las etiquetas en y\n",
        "va = [\"1 cartas\",\"2 cartas\"]\n",
        "# Guardamos en un arreglo las probabilidades obtenidas\n",
        "probabilidades = [prob_mano1, prob_mano2]\n",
        "# Limito los decimales a 4 dígitos \n",
        "for i in probabilidades:\n",
        "  x = (round(i, 4))\n",
        "  li.append(x)\n",
        "# Española\n",
        "probabilidadesE = [prob_manoE1, prob_manoE2]\n",
        "for i in probabilidadesE:\n",
        "  x1 = (round(i, 4))\n",
        "  liE.append(x1)\n",
        "# Obtenemos una lista con las posiciones de cada carta\n",
        "y_pos = np.arange(len(probabilidades))\n",
        "y_posE = [x + .5 for x in y_pos]\n",
        "\n",
        "plt.figure(figsize = (16,8))\n",
        "# Creamos la grafica pasando los valores en el eje X, Y, donde X = probabilidad y Y = nº de cartas\n",
        "poker = plt.barh(y_pos, li, height = 0.5, align='center', color = 'darkslateblue', label = \"Poker\")\n",
        "espanola = plt.barh(y_posE, liE, height = 0.5, align='center', color = 'salmon', label = \"Española\")\n",
        "# Añadimos las etiquetas de nombres\n",
        "plt.yticks(y_pos, va)\n",
        "# Aññadimos anotaciones a las barras\n",
        "for i, v in enumerate(li):\n",
        "  plt.text(v + .001, i + .01, str(v), color='blue', fontweight='bold')\n",
        "for j, w in enumerate(liE):\n",
        "  plt.text(w + .001, j + .5, str(w), color='darkred', fontweight='bold')\n",
        "# Etiquetas ejes\n",
        "plt.xlabel('Probabilidad (%)', fontsize = 16, fontweight ='bold')\n",
        "plt.ylabel('Nº de cartas \\n', fontsize = 16, fontweight ='bold')\n",
        "plt.legend(fontsize = 14)\n",
        "plt.grid(True)\n",
        "# Y una etiqueta superior\n",
        "plt.title('Probabilidades de obtener 21 Blackjack\\n', fontsize = 26, fontweight ='bold')\n",
        "plt.show()"
      ],
      "execution_count": null,
      "outputs": [
        {
          "output_type": "display_data",
          "data": {
            "image/png": "[encoded data removed]",
            "text/plain": [
              "<Figure size 1152x576 with 1 Axes>"
            ]
          },
          "metadata": {
            "tags": [],
            "needs_background": "light"
          }
        }
      ]
    },
    {
      "cell_type": "markdown",
      "metadata": {
        "id": "v5V8pKBvzvJb"
      },
      "source": [
        "## **Estimando la probabilidad de obtener BlackJack 21 quedando en el mazo una baraja caliente o una baraja fría, para una baraja de Poker y para una baraja Española.**"
      ]
    },
    {
      "cell_type": "markdown",
      "metadata": {
        "id": "yVTct5dMpJCS"
      },
      "source": [
        "> **Baraja caliente:** *4 cartas de 1 y 4 cartas de 2.*\n",
        "\n",
        "> *En este caso, tanto la baraja de Poker como la Española tendrán la misma probabilidad de hacer 21 Blackjack.*\n",
        "\n",
        "> **Baraja fría:** *Una baraja sin 1's ni 2's.*\n",
        "\n",
        "> *En este caso, las posibilidades son nulas, pues se necesita de por lo menos un 2 o un par de 1's para hacer 21 Blackjack.*\n",
        "\n"
      ]
    },
    {
      "cell_type": "code",
      "metadata": {
        "colab": {
          "base_uri": "https://localhost:8080/"
        },
        "id": "urE6kQR9nAxh",
        "outputId": "b7329450-9ff0-407f-872d-cc0605196433"
      },
      "source": [
        "# Probabilidad para mano = [7,7,5] y queda en el mazo restante una baraja caliente y otra fría solo pidiendo una carta\n",
        "\n",
        "#------------------BARAJA POKER------------------\n",
        "cartas=[\"As\",1,2,3,4,5,6,7,8,9,10,\"J\",\"Q\",\"K\"]\n",
        "valor=[0,2,3,4,5,6,7,8,9,10 ,10 ,10,10, \n",
        "       0,2,3,4,5,6,7,8,9,10 ,10 ,10,10, \n",
        "       0,2,3,4,5,6,7,8,9,10 ,10 ,10,10, \n",
        "       0,2,3,4,5,6,7,8,9,10 ,10 ,10,10]\n",
        "#------------------BARAJA ESPAÑOLA---------------\n",
        "valoresE=[1,2,3,4,5,6,7,8,9,10,11,12, \n",
        "          1,2,3,4,5,6,7,8,9,10,11,12, \n",
        "          1,2,3,4,5,6,7,8,9,10,11,12, \n",
        "          1,2,3,4,5,6,7,8,9,10,11,12]\n",
        "#------------------BARAJA EN MANO---------------\n",
        "mano = [7,7,5]\n",
        "#--------BARAJA CALIENTE AMBAS BARAJAS----------\n",
        "# 4 cartas de 1 y 4 cartas de 2\n",
        "hot_deck=[1,1,1,1,2,2,2,2]\n",
        "#------------BARAJA FRÍA POKER------------------\n",
        "cold_deck=[11,3,4,5,6,7,8,9,10,10,10,10, \n",
        "           11,3,4,5,6,7,8,9,10,10,10,10, \n",
        "           11,3,4,5,6,7,8,9,10,10,10,10, \n",
        "           11,3,4,5,6,7,8,9,10,10,10,10]\n",
        "#------------BARAJA FRÍA ESPAÑOLA---------------\n",
        "cold_deckE=[3,4,5,6,7,8,9,10,11,12, \n",
        "            3,4,5,6,7,8,9,10,11,12, \n",
        "            3,4,5,6,7,8,9,10,11,12, \n",
        "            3,4,5,6,7,8,9,10,11,12]\n",
        "\n",
        "\n",
        "a1 = 0\n",
        "b1 = 0\n",
        "a2 = 0\n",
        "b2 = 0\n",
        "a3 = 0\n",
        "b3 = 0\n",
        "t = 10000000\n",
        "\n",
        "for l in mano:\n",
        "  # Se suma la lista \"mano\"\n",
        "  s = sum(mano)\n",
        "#print(s)\n",
        "\n",
        "\n",
        "for i in range (0, int(t/2)):\n",
        "  # Selecciona una carta de baraja caliente \n",
        "  #n1 = hot_deck[random.randrange(0, 8)]\n",
        "  n1 = choice(hot_deck)\n",
        "  # Selecciona una carta de baraja fría del mazo restante \"Poker\"\n",
        "  #n2 = cold_deck[random.randrange(0, 48)]\n",
        "  n2 = choice(cold_deck)\n",
        "  # Selecciona una carta de baraja fría del mazo restante \"Española\"\n",
        "  #n3 = cold_deckE[random.randrange(0, 40)]\n",
        "  n3 = choice(cold_deckE)\n",
        "  \n",
        "  # Simulaciones\n",
        "\n",
        "  ## Baraja caliente\n",
        "  if (s + n1) == 21:\n",
        "    a1 = a1 + 1\n",
        "      \n",
        "  else:\n",
        "    b1 = b1 + 1  \n",
        "  ## Baraja fría Poker\n",
        "  if (s + n2) == 21:\n",
        "    a2 = a2 + 1\n",
        "  else:\n",
        "    b2 = b2 + 1\n",
        "\n",
        "\n",
        "  ## Baraja fría Española   \n",
        "  if (s + n3) == 21:\n",
        "    a3 = a3 + 1\n",
        "    #print(n3, mno, n3+mno,\"sioooo\")  \n",
        "  else:\n",
        "    b3 = b3 + 1\n",
        "casF2=0\n",
        "hot_deck2=[1,1,1,2,2,2,2]\n",
        "for ax in range(0,t):\n",
        "  qw=random.sample(hot_deck2,1)[0]\n",
        "  if (qw+20==21):\n",
        "    casF2+=1\n",
        "\n",
        "prob_hot = (a1/(t/2))\n",
        "prot_hotC2=(casF2/(2*t))\n",
        "prob_cold = (a2/t)\n",
        "prob_coldE = (a3/t)\n",
        "\n",
        "\n",
        "print(\"La probabilidad de obtener 21 con una mano de [7,7,5] y una baraja caliente es aproximadamente:\",prob_hot+prot_hotC2 , \" o \", (prob_hot+prot_hotC2)*100, \"%\")\n",
        "print(\"La probabilidad de obtener 21 con una mano de [7,7,5] y una baraja caliente Española es aproximadamente:\",prob_hot+prot_hotC2 , \" o \", (prob_hot+prot_hotC2)*100, \"%\")\n",
        "\n",
        "print(\"Casos favorables:\",a2,\"/Casos totales:\",t,\"; La probabilidad de obtener 21 con una mano de [7,7,5] y baraja fría de Poker es aproximadamente:\",prob_cold , \" o \", prob_cold*100, \"%\")\n",
        "print(\"Casos favorables:\",a3,\"/Casos totales:\",t,\"; La probabilidad de obtener 21 con una mano de [7,7,5] y baraja fría Española es aproximadamente:\",prob_coldE , \" o \", prob_coldE*100, \"%\")"
      ],
      "execution_count": 71,
      "outputs": [
        {
          "output_type": "stream",
          "text": [
            "La probabilidad de obtener 21 con una mano de [7,7,5] y una baraja caliente es aproximadamente: 0.7143225  o  71.43225 %\n",
            "La probabilidad de obtener 21 con una mano de [7,7,5] y una baraja caliente Española es aproximadamente: 0.7143225  o  71.43225 %\n",
            "Casos favorables: 0 /Casos totales: 10000000 ; La probabilidad de obtener 21 con una mano de [7,7,5] y baraja fría de Poker es aproximadamente: 0.0  o  0.0 %\n",
            "Casos favorables: 0 /Casos totales: 10000000 ; La probabilidad de obtener 21 con una mano de [7,7,5] y baraja fría Española es aproximadamente: 0.0  o  0.0 %\n"
          ],
          "name": "stdout"
        }
      ]
    },
    {
      "cell_type": "markdown",
      "metadata": {
        "id": "loGbu-7KT6Sw"
      },
      "source": [
        "*Analisis * \n",
        "\n",
        "dado que se tienen las cartas 7,7,5 que suman 19 y la baraja caliente se compone de 1,1,1,1,2,2,2,2, se gana en dos casos:\n",
        "\n",
        "\n",
        "*   Sacando un dos con una probabilidad de 1/2\n",
        "*   Sacando dos unos con una probabilidad de (1/2)*(3/7)\n",
        "\n",
        "dandonos como probabilidad total de ganar: (1/2)+((1/2)*(3/7)) que es aproximadamente 0.714\n",
        "\n"
      ]
    },
    {
      "cell_type": "markdown",
      "metadata": {
        "id": "lAsL6s-xYbPd"
      },
      "source": [
        "*Analisis baraja fria*\n",
        "\n",
        "En este caso todas las cartas sumadas a nuestra baraja nos hacen pasarnos de 21, por esta razon la probabilidad de ganar es de 0"
      ]
    },
    {
      "cell_type": "markdown",
      "metadata": {
        "id": "5MotVV4YDwIz"
      },
      "source": [
        "## **Trazando distribución experimental**"
      ]
    },
    {
      "cell_type": "code",
      "metadata": {
        "colab": {
          "base_uri": "https://localhost:8080/",
          "height": 416
        },
        "id": "EZk6AVigDsvv",
        "outputId": "01940468-58ae-4243-c3b7-7e58313af5d4"
      },
      "source": [
        "# Importando librerías necesarias para graficar\n",
        "\n",
        "import matplotlib\n",
        "import matplotlib.pyplot as plt\n",
        "import numpy as np\n",
        "\n",
        "li = []\n",
        "liE = []\n",
        "barwidth = 0.5\n",
        "# Creamos un arreglo para las etiquetas en y\n",
        "va = [\"Baraja Caliente\",\"Baraja Fría\"]\n",
        "# Guardamos en un arreglo las probabilidades obtenidas\n",
        "probabilidades = [prob_hot+prot_hotC2, prob_cold]\n",
        "# Limito los decimales a 4 dígitos \n",
        "for i in probabilidades:\n",
        "  x = (round(i, 4))\n",
        "  li.append(x)\n",
        "# Española\n",
        "probabilidadesE = [prob_hot+prot_hotC2, prob_coldE]\n",
        "for i in probabilidadesE:\n",
        "  x1 = (round(i, 4))\n",
        "  liE.append(x1)\n",
        "# Obtenemos una lista con las posiciones de cada carta\n",
        "y_pos = np.arange(len(probabilidades))\n",
        "y_posE = [x + .5 for x in y_pos]\n",
        "\n",
        "plt.figure(figsize = (16,8))\n",
        "# Creamos la grafica pasando los valores en el eje X, Y, donde X = probabilidad y Y = nº de cartas\n",
        "poker = plt.barh(y_pos, li, height = 0.5, align='center', color = 'darkslateblue', label = \"Poker\")\n",
        "espanola = plt.barh(y_posE, liE, height = 0.5, align='center', color = 'salmon', label = \"Española\")\n",
        "# Añadimos las etiquetas de nombres\n",
        "plt.yticks(y_pos, va)\n",
        "# Aññadimos anotaciones a las barras\n",
        "for i, v in enumerate(li):\n",
        "  plt.text(v + .002, i + .01, str(v), color='blue', fontweight='bold')\n",
        "for j, w in enumerate(liE):\n",
        "  plt.text(w + .002, j + .5, str(w), color='darkred', fontweight='bold')\n",
        "# Etiquetas ejes\n",
        "plt.xlabel('Probabilidad (%)', fontsize = 16, fontweight ='bold')\n",
        "plt.ylabel('Nº de cartas \\n', fontsize = 16, fontweight ='bold')\n",
        "plt.legend(fontsize = 14)\n",
        "plt.grid(True)\n",
        "# Y una etiqueta superior\n",
        "plt.title('Probabilidades de obtener 21 Blackjack\\n', fontsize = 26, fontweight ='bold')\n",
        "plt.show()"
      ],
      "execution_count": 72,
      "outputs": [
        {
          "output_type": "display_data",
          "data": {
            "image/png": "[encoded data removed]",
            "text/plain": [
              "<Figure size 1152x576 with 1 Axes>"
            ]
          },
          "metadata": {
            "tags": [],
            "needs_background": "light"
          }
        }
      ]
    },
    {
      "cell_type": "markdown",
      "metadata": {
        "id": "Am-IU4jtqdHt"
      },
      "source": [
        "## **Estimando la cantidad promedio de dinero cuando Ben juega 21 BlackJack, con una baraja de Poker y/o con una baraja Española.**"
      ]
    },
    {
      "cell_type": "markdown",
      "metadata": {
        "id": "DVeasUfwqwrT"
      },
      "source": [
        "> *Ben juega en las Vegas todos los fines de semana (viernes, sábado y domingo) durante 10 horas diarias. Cada juego dura 3 minutos.\n",
        "\n",
        "> Para cada juego hay 2 posibilidades:\n",
        "\n",
        "> 1.   En su mano [7,7,5] y queda una baraja caliente. Apuesta \\$ 1 000.\n",
        "2.   No tiene cartas en la mano. Hay una baraja completa. Apuesta \\$ 10.\n",
        "\n"
      ]
    },
    {
      "cell_type": "code",
      "metadata": {
        "colab": {
          "base_uri": "https://localhost:8080/"
        },
        "id": "AmEXipM5rqQ0",
        "outputId": "3fefedcc-9cae-4861-ff6c-6ab1247cfd0a"
      },
      "source": [
        " # Mano de Ben [7,7,5] y queda una baraja caliente. Apuesta $ 1 000.\n",
        "import numpy\n",
        "#------------------BARAJA EN MANO---------------\n",
        "mano = [7,7,5]\n",
        "#--------BARAJA CALIENTE AMBAS BARAJAS----------\n",
        "# 4 cartas de 1 y 4 cartas de 2\n",
        "hot_deck=[1,1,1,1,2,2,2,2]\n",
        "a = 0\n",
        "b = 0\n",
        "t = 10000\n",
        "apuesta = 1000\n",
        "probabilidadesE = [prob_2_cardsE, prob_3_cardsE, prob_4_cardsE, prob_5_cardsE, prob_6_cardsE, prob_7_cardsE, prob_8_cardsE,prob_9_cardsE,prob_10_cardsE,prob_11_cardsE]\n",
        "probabilidades = [prob_2_cards, prob_3_cards, prob_4_cards, prob_5_cards, prob_6_cards, prob_7_cards, prob_8_cards,prob_9_cards,prob_10_cards,prob_11_cards]\n",
        "probak=((sum(probabilidades)/len(probabilidades)))\n",
        "\n",
        "probaE=(sum(probabilidadesE)/len(probabilidadesE))\n",
        "#for l in mano:\n",
        "  # Se suma la lista \"mano\"\n",
        "  \n",
        "#print(s)\n",
        "g1=0\n",
        "g2=0\n",
        "p1=0\n",
        "p2=0\n",
        "\n",
        "eg1=0\n",
        "eg2=0\n",
        "ep1=0\n",
        "ep2=0\n",
        "# Simulaciones\n",
        "for j in range(0,1):\n",
        "  for i in range (0, 600):\n",
        "    case=(numpy.random.choice([0, 1], size = 1, p=[(9/10),(1/10)])[0])\n",
        "    if (case==1):\n",
        "      s = 19\n",
        "      # Selecciona una carta de baraja caliente \n",
        "      #n1 = hot_deck[random.randrange(0, 8)]\n",
        "      n1 = choice(hot_deck)\n",
        "      ## Baraja caliente\n",
        "      if (s + n1) == 21:\n",
        "        g1 += 1\n",
        "      elif ((s + n1)<21):\n",
        "        s=s+n1\n",
        "        n2=choice(hot_deck)\n",
        "        if ((s+n2)==21):\n",
        "          g1+=1\n",
        "        else:\n",
        "          p1+=1 \n",
        "      else:\n",
        "        p1+=1  \n",
        "    if (case==0):\n",
        "      if ((numpy.random.choice([0, 1], size = 1, p=[0.84,0.16])[0])==1):\n",
        "        g2+=1\n",
        "      else:\n",
        "        p2+=1\n",
        "\n",
        "for j in range(0,1):\n",
        "  for i in range (0, 600):\n",
        "    case=(numpy.random.choice([0, 1], size = 1, p=[(9/10),(1/10)])[0])\n",
        "    if (case==1):\n",
        "      s = 19\n",
        "      # Selecciona una carta de baraja caliente \n",
        "      #n1 = hot_deck[random.randrange(0, 8)]\n",
        "      n1 = choice(hot_deck)\n",
        "      ## Baraja caliente\n",
        "      if (s + n1) == 21:\n",
        "        eg1 += 1\n",
        "      elif ((s + n1)<21):\n",
        "        s=s+n1\n",
        "        n2=choice(hot_deck)\n",
        "        if ((s+n2)==21):\n",
        "          eg1+=1\n",
        "        else:\n",
        "          ep1+=1 \n",
        "      else:\n",
        "        ep1+=1  \n",
        "    if (case==0):\n",
        "      if ((numpy.random.choice([0, 1], size = 1, p=[0.85,0.15])[0])==1):\n",
        "        eg2+=1\n",
        "      else:\n",
        "        ep2+=1\n",
        "\n",
        "# Son 600 juegos por fin de semana\n",
        "valor = ((g1*1000*2)+(-p1*1000)+(g2*10*2)+(-p2*10))\n",
        "valore = ((eg1*1000*2)+(-ep1*1000)+(eg2*10*2)+(-ep2*10))\n",
        "\n",
        "print(\"Ben gana un promedio de: $ {:,.2f}\".format(valor).replace(\",\", \"@\").replace(\".\", \",\").replace(\"@\", \".\"), \"con una mano de [7,7,5] y una baraja de poker caliente.\")\n",
        "print(\"Ben gana un promedio de: $ {:,.2f}\".format(valore).replace(\",\", \"@\").replace(\".\", \",\").replace(\"@\", \".\"), \"con una mano de [7,7,5] y una baraja española caliente.\")"
      ],
      "execution_count": 160,
      "outputs": [
        {
          "output_type": "stream",
          "text": [
            "Ben gana un promedio de: $ 72.180,00 con una mano de [7,7,5] y una baraja de poker caliente.\n",
            "Ben gana un promedio de: $ 69.960,00 con una mano de [7,7,5] y una baraja española caliente.\n"
          ],
          "name": "stdout"
        }
      ]
    }
  ]
}