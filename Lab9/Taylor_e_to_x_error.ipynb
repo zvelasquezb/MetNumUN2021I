{
  "nbformat": 4,
  "nbformat_minor": 0,
  "metadata": {
    "colab": {
      "name": "Taylor_e_to_x_error.ipynb",
      "provenance": [],
      "collapsed_sections": []
    },
    "kernelspec": {
      "name": "python3",
      "display_name": "Python 3"
    }
  },
  "cells": [
    {
      "cell_type": "markdown",
      "metadata": {
        "id": "gW4os_CunxWI"
      },
      "source": [
        "# **TAYLOR SERIES ERROR IN PYTHON**"
      ]
    },
    {
      "cell_type": "markdown",
      "metadata": {
        "id": "SeOTK1wAmEhD"
      },
      "source": [
        "# $e^{x}$"
      ]
    },
    {
      "cell_type": "code",
      "metadata": {
        "id": "vLwDl129-jhR",
        "colab": {
          "base_uri": "https://localhost:8080/"
        },
        "outputId": "63785bd5-5662-4458-cba0-b8798bf24ba7"
      },
      "source": [
        "import math\n",
        "\n",
        "x = 2\n",
        "e_to_2 = x**0/math.factorial(0) + x**1/math.factorial(1) + x**2/math.factorial(2) + x**3/math.factorial(3) + x**4/math.factorial(4)\n",
        "print(e_to_2)"
      ],
      "execution_count": null,
      "outputs": [
        {
          "output_type": "stream",
          "text": [
            "7.0\n"
          ],
          "name": "stdout"
        }
      ]
    },
    {
      "cell_type": "code",
      "metadata": {
        "id": "32L27d0r_EwV",
        "colab": {
          "base_uri": "https://localhost:8080/"
        },
        "outputId": "64dd0835-acfb-448a-c31c-514980874371"
      },
      "source": [
        "print(math.exp(2))"
      ],
      "execution_count": null,
      "outputs": [
        {
          "output_type": "stream",
          "text": [
            "7.38905609893065\n"
          ],
          "name": "stdout"
        }
      ]
    },
    {
      "cell_type": "code",
      "metadata": {
        "id": "xTjBEI-s_KO8",
        "colab": {
          "base_uri": "https://localhost:8080/"
        },
        "outputId": "a78e867b-2e3e-470c-9ee5-f2a6159c81e1"
      },
      "source": [
        "import math\n",
        "\n",
        "x = 2\n",
        "e_to_2 = 0\n",
        "for i in range(10):\n",
        "    e_to_2 += x**i/math.factorial(i) \n",
        "print(e_to_2)"
      ],
      "execution_count": null,
      "outputs": [
        {
          "output_type": "stream",
          "text": [
            "7.3887125220458545\n"
          ],
          "name": "stdout"
        }
      ]
    },
    {
      "cell_type": "markdown",
      "metadata": {
        "id": "CeFgUwtNfwKO"
      },
      "source": [
        "For the Taylor series for $f(x) = e^x$ about $c=0$ (Maclaurin) \n",
        "\n",
        "$$ E_n = \\frac{f^{(n+1)}(\\xi)}{(n+1)!}(x-c)^{(n+1)} = \\frac{e^\\xi}{(n+1)!}x^{(n+1)} \\le  \\frac{e^x}{(n+1)!}x^{(n+1)},\\text{ given that } $$\n",
        "\n",
        "\n",
        "If we want $E_n \\le \\epsilon$ then we need $n$ such that because $e^x \\ge e^\\xi$, for  $c=0 \\le \\xi \\le x$ \n",
        "\n",
        "\n",
        "$$ \\frac{e^x}{(n+1)!}x^{(n+1)} < \\epsilon$$ \n",
        "\n",
        "because $e^x \\ge e^\\xi$, for  $0 \\le \\xi \\le x$.\n"
      ]
    },
    {
      "cell_type": "code",
      "metadata": {
        "id": "ZIEObg2JbjfY",
        "colab": {
          "base_uri": "https://localhost:8080/"
        },
        "outputId": "d1aac605-94ce-4843-81bf-e140b39f6607"
      },
      "source": [
        "import math\n",
        "\n",
        "x = 10\n",
        "epsilon = 10**(-4)\n",
        "\n",
        "for k in range(1000):\n",
        "  if (  ( (math.exp(x) * x**(k+1)) / math.factorial(k+1) ) < epsilon):\n",
        "    break\n",
        "print(k)\n",
        "\n",
        "e_to_x = 0\n",
        "for i in range(k):\n",
        "    print(i,' ',e_to_x, ' delta ', x**i/math.factorial(i))\n",
        "    e_to_x += x**i/math.factorial(i) \n",
        "    \n",
        "print('math.exp(10) = ',math.exp(10))"
      ],
      "execution_count": null,
      "outputs": [
        {
          "output_type": "stream",
          "text": [
            "40\n",
            "0   0  delta  1.0\n",
            "1   1.0  delta  10.0\n",
            "2   11.0  delta  50.0\n",
            "3   61.0  delta  166.66666666666666\n",
            "4   227.66666666666666  delta  416.6666666666667\n",
            "5   644.3333333333334  delta  833.3333333333334\n",
            "6   1477.6666666666667  delta  1388.888888888889\n",
            "7   2866.5555555555557  delta  1984.126984126984\n",
            "8   4850.68253968254  delta  2480.15873015873\n",
            "9   7330.84126984127  delta  2755.731922398589\n",
            "10   10086.573192239859  delta  2755.731922398589\n",
            "11   12842.305114638448  delta  2505.210838544172\n",
            "12   15347.51595318262  delta  2087.67569878681\n",
            "13   17435.191651969428  delta  1605.9043836821616\n",
            "14   19041.09603565159  delta  1147.0745597729724\n",
            "15   20188.170595424563  delta  764.7163731819817\n",
            "16   20952.886968606545  delta  477.9477332387385\n",
            "17   21430.834701845284  delta  281.14572543455205\n",
            "18   21711.980427279836  delta  156.19206968586226\n",
            "19   21868.172496965697  delta  82.2063524662433\n",
            "20   21950.37884943194  delta  41.10317623312165\n",
            "21   21991.482025665064  delta  19.572941063391262\n",
            "22   22011.054966728454  delta  8.896791392450574\n",
            "23   22019.951758120904  delta  3.868170170630684\n",
            "24   22023.819928291534  delta  1.6117375710961184\n",
            "25   22025.43166586263  delta  0.6446950284384474\n",
            "26   22026.076360891067  delta  0.24795962632247975\n",
            "27   22026.32432051739  delta  0.09183689863795547\n",
            "28   22026.416157416028  delta  0.03279889237069838\n",
            "29   22026.4489563084  delta  0.011309962886447717\n",
            "30   22026.460266271286  delta  0.003769987628815906\n",
            "31   22026.464036258916  delta  0.001216125041553518\n",
            "32   22026.465252383958  delta  0.00038003907548547436\n",
            "33   22026.465632423035  delta  0.0001151633562077195\n",
            "34   22026.46574758639  delta  3.3871575355211616e-05\n",
            "35   22026.465781457966  delta  9.677592958631891e-06\n",
            "36   22026.465791135557  delta  2.6882202662866364e-06\n",
            "37   22026.465793823776  delta  7.265460179153071e-07\n",
            "38   22026.46579455032  delta  1.9119632050402818e-07\n",
            "39   22026.465794741518  delta  4.9024697565135436e-08\n",
            "math.exp(10) =  22026.465794806718\n"
          ],
          "name": "stdout"
        }
      ]
    },
    {
      "cell_type": "markdown",
      "metadata": {
        "id": "Mi6Xm1WRz4jv"
      },
      "source": [
        "$$ \\frac{e^x}{(n+1)!}x^{(n+1)} < \\frac{3^x}{(n+1)!}x^{(n+1)} < \\epsilon$$ \n",
        "\n"
      ]
    },
    {
      "cell_type": "code",
      "metadata": {
        "id": "hRvsaSzRz2dq",
        "colab": {
          "base_uri": "https://localhost:8080/"
        },
        "outputId": "bd136921-6279-47a7-b321-ff00f5ce58df"
      },
      "source": [
        "import math\n",
        "\n",
        "x = 10\n",
        "epsilon = 10**(-16)\n",
        "\n",
        "for k in range(1000):\n",
        "  if (  ( (3**x * x**(k+1)) / math.factorial(k+1) ) < epsilon):\n",
        "    break\n",
        "print(k)\n",
        "\n",
        "e_to_x = 0\n",
        "for i in range(k+1):\n",
        "    print(i,' ',e_to_x, ' delta ', x**i/math.factorial(i))\n",
        "    e_to_x += x**i/math.factorial(i) \n",
        "    \n",
        "print('math.exp(10) = ',math.exp(10))"
      ],
      "execution_count": null,
      "outputs": [
        {
          "output_type": "stream",
          "text": [
            "58\n",
            "0   0  delta  1.0\n",
            "1   1.0  delta  10.0\n",
            "2   11.0  delta  50.0\n",
            "3   61.0  delta  166.66666666666666\n",
            "4   227.66666666666666  delta  416.6666666666667\n",
            "5   644.3333333333334  delta  833.3333333333334\n",
            "6   1477.6666666666667  delta  1388.888888888889\n",
            "7   2866.5555555555557  delta  1984.126984126984\n",
            "8   4850.68253968254  delta  2480.15873015873\n",
            "9   7330.84126984127  delta  2755.731922398589\n",
            "10   10086.573192239859  delta  2755.731922398589\n",
            "11   12842.305114638448  delta  2505.210838544172\n",
            "12   15347.51595318262  delta  2087.67569878681\n",
            "13   17435.191651969428  delta  1605.9043836821616\n",
            "14   19041.09603565159  delta  1147.0745597729724\n",
            "15   20188.170595424563  delta  764.7163731819817\n",
            "16   20952.886968606545  delta  477.9477332387385\n",
            "17   21430.834701845284  delta  281.14572543455205\n",
            "18   21711.980427279836  delta  156.19206968586226\n",
            "19   21868.172496965697  delta  82.2063524662433\n",
            "20   21950.37884943194  delta  41.10317623312165\n",
            "21   21991.482025665064  delta  19.572941063391262\n",
            "22   22011.054966728454  delta  8.896791392450574\n",
            "23   22019.951758120904  delta  3.868170170630684\n",
            "24   22023.819928291534  delta  1.6117375710961184\n",
            "25   22025.43166586263  delta  0.6446950284384474\n",
            "26   22026.076360891067  delta  0.24795962632247975\n",
            "27   22026.32432051739  delta  0.09183689863795547\n",
            "28   22026.416157416028  delta  0.03279889237069838\n",
            "29   22026.4489563084  delta  0.011309962886447717\n",
            "30   22026.460266271286  delta  0.003769987628815906\n",
            "31   22026.464036258916  delta  0.001216125041553518\n",
            "32   22026.465252383958  delta  0.00038003907548547436\n",
            "33   22026.465632423035  delta  0.0001151633562077195\n",
            "34   22026.46574758639  delta  3.3871575355211616e-05\n",
            "35   22026.465781457966  delta  9.677592958631891e-06\n",
            "36   22026.465791135557  delta  2.6882202662866364e-06\n",
            "37   22026.465793823776  delta  7.265460179153071e-07\n",
            "38   22026.46579455032  delta  1.9119632050402818e-07\n",
            "39   22026.465794741518  delta  4.9024697565135436e-08\n",
            "40   22026.465794790543  delta  1.2256174391283859e-08\n",
            "41   22026.4657948028  delta  2.9893108271424046e-09\n",
            "42   22026.46579480579  delta  7.11740673129144e-10\n",
            "43   22026.465794806503  delta  1.6552108677421953e-10\n",
            "44   22026.465794806667  delta  3.761842881232262e-11\n",
            "45   22026.465794806703  delta  8.359650847182803e-12\n",
            "46   22026.46579480671  delta  1.817315401561479e-12\n",
            "47   22026.46579480671  delta  3.866628513960594e-13\n",
            "48   22026.46579480671  delta  8.055476070751238e-14\n",
            "49   22026.46579480671  delta  1.643974708316579e-14\n",
            "50   22026.46579480671  delta  3.287949416633158e-15\n",
            "51   22026.46579480671  delta  6.446959640457173e-16\n",
            "52   22026.46579480671  delta  1.2397999308571487e-16\n",
            "53   22026.46579480671  delta  2.3392451525606577e-17\n",
            "54   22026.46579480671  delta  4.331935467704922e-18\n",
            "55   22026.46579480671  delta  7.876246304918039e-19\n",
            "56   22026.46579480671  delta  1.4064725544496499e-19\n",
            "57   22026.46579480671  delta  2.4674957095607893e-20\n",
            "58   22026.46579480671  delta  4.2543029475186024e-21\n",
            "math.exp(10) =  22026.465794806718\n"
          ],
          "name": "stdout"
        }
      ]
    },
    {
      "cell_type": "code",
      "metadata": {
        "id": "ZmlwI27Cz0cn",
        "colab": {
          "base_uri": "https://localhost:8080/"
        },
        "outputId": "1a818546-b0f9-4bf9-b17b-21d66290d38e"
      },
      "source": [
        "import math\n",
        "\n",
        "x = 10\n",
        "epsilon = 10**(-4)\n",
        "delta = 1\n",
        "e_to_x = 0\n",
        "i = 0\n",
        "while  epsilon <= delta:\n",
        "  delta = x**i/math.factorial(i) \n",
        "  e_to_x += delta\n",
        "  i = i+1\n",
        "print(i-1) \n",
        "print('e_to_x = ',e_to_x)    \n",
        "print('math.exp(10) = ',math.exp(10))"
      ],
      "execution_count": null,
      "outputs": [
        {
          "output_type": "stream",
          "text": [
            "34\n",
            "e_to_x =  22026.465781457966\n",
            "math.exp(10) =  22026.465794806718\n"
          ],
          "name": "stdout"
        }
      ]
    },
    {
      "cell_type": "markdown",
      "metadata": {
        "id": "NfI-olxwmLsw"
      },
      "source": [
        "# $sen(x)$"
      ]
    },
    {
      "cell_type": "code",
      "metadata": {
        "colab": {
          "base_uri": "https://localhost:8080/"
        },
        "id": "lTdewlXu2VJn",
        "outputId": "e092c6ae-346d-4948-8c2c-1e1f8a8025f3"
      },
      "source": [
        "import math\n",
        "\n",
        "x = 10\n",
        "epsilon = 10**(-4)\n",
        "\n",
        "for k in range(1000):\n",
        "  coef = (-1)**k\n",
        "  num = x**(2*k + 1)\n",
        "  denom = math.factorial(2*k + 1)\n",
        "  if abs((math.sin(x) * ( coef * ( (num)/(denom) ) ))) < epsilon:\n",
        "    break\n",
        "print(k)\n",
        "\n",
        "sen = 0\n",
        "for i in range(k):\n",
        "  coef = (-1)**i\n",
        "  num = x**(2*i + 1)\n",
        "  denom = math.factorial(2*i + 1)\n",
        "  print(i,' ',sen, ' delta ', abs(( coef ) * ( (num)/(denom) )))\n",
        "  sen += ( coef ) * ( (num)/(denom) )\n",
        "    \n",
        "print('math.seno(10) = ', math.sin(x))"
      ],
      "execution_count": null,
      "outputs": [
        {
          "output_type": "stream",
          "text": [
            "16\n",
            "0   0  delta  10.0\n",
            "1   10.0  delta  166.66666666666666\n",
            "2   -156.66666666666666  delta  833.3333333333334\n",
            "3   676.6666666666667  delta  1984.126984126984\n",
            "4   -1307.4603174603174  delta  2755.731922398589\n",
            "5   1448.2716049382718  delta  2505.210838544172\n",
            "6   -1056.9392336059002  delta  1605.9043836821616\n",
            "7   548.9651500762614  delta  764.7163731819817\n",
            "8   -215.75122310572033  delta  281.14572543455205\n",
            "9   65.39450232883172  delta  82.2063524662433\n",
            "10   -16.811850137411582  delta  19.572941063391262\n",
            "11   2.76109092597968  delta  3.868170170630684\n",
            "12   -1.107079244651004  delta  0.6446950284384474\n",
            "13   -0.46238421621255665  delta  0.09183689863795547\n",
            "14   -0.5542211148505121  delta  0.011309962886447717\n",
            "15   -0.5429111519640644  delta  0.001216125041553518\n",
            "math.seno(10) =  -0.5440211108893698\n"
          ],
          "name": "stdout"
        }
      ]
    },
    {
      "cell_type": "code",
      "metadata": {
        "colab": {
          "base_uri": "https://localhost:8080/"
        },
        "id": "jEp9P1ra6HUY",
        "outputId": "3b08ccd9-8430-4d54-8684-5c1506ab23ec"
      },
      "source": [
        "import math\n",
        "\n",
        "x = 10\n",
        "epsilon = 10**(-4)\n",
        "delta = 1\n",
        "sen = 0\n",
        "i = 0\n",
        "while  epsilon <= abs(delta):\n",
        "  coef = (-1)**i\n",
        "  num = x**(2*i + 1)\n",
        "  denom = math.factorial(2*i + 1)\n",
        "  delta = ( coef ) * ( (num)/(denom) )\n",
        "  sen += delta\n",
        "  i = i+1\n",
        "print(i-1) \n",
        "print('seno = ',sen)    \n",
        "print('math.seno(10) = ',math.sin(x))"
      ],
      "execution_count": null,
      "outputs": [
        {
          "output_type": "stream",
          "text": [
            "17\n",
            "seno =  -0.5440217912423688\n",
            "math.seno(10) =  -0.5440211108893698\n"
          ],
          "name": "stdout"
        }
      ]
    },
    {
      "cell_type": "markdown",
      "metadata": {
        "id": "let6YcrNmPMO"
      },
      "source": [
        "# $cos(x)$"
      ]
    },
    {
      "cell_type": "code",
      "metadata": {
        "colab": {
          "base_uri": "https://localhost:8080/"
        },
        "id": "LVyz5Tzs_fld",
        "outputId": "27c4d964-d1f3-414f-fa02-783433b0f595"
      },
      "source": [
        "import math\n",
        "\n",
        "x = 10\n",
        "epsilon = 10**(-4)\n",
        "\n",
        "for k in range(1000):\n",
        "  coef = (-1)**k\n",
        "  num = x**(2*k)\n",
        "  denom = math.factorial(2*k)\n",
        "  if abs(math.cos(x) * ( ( coef ) * ( (num)/(denom) ) )) < epsilon:\n",
        "    break\n",
        "print(k)\n",
        "\n",
        "coseno = 0\n",
        "for i in range(k):\n",
        "  coef = (-1)**i\n",
        "  num = x**(2*i)\n",
        "  denom = math.factorial(2*i)\n",
        "  print(i,' ',coseno, ' delta ', ( coef ) * ( (num)/(denom) ))\n",
        "  coseno += ( coef ) * ( (num)/(denom) )\n",
        "    \n",
        "print('math.coseno(10) = ', math.cos(x))"
      ],
      "execution_count": null,
      "outputs": [
        {
          "output_type": "stream",
          "text": [
            "17\n",
            "0   0  delta  1.0\n",
            "1   1.0  delta  -50.0\n",
            "2   -49.0  delta  416.6666666666667\n",
            "3   367.6666666666667  delta  -1388.888888888889\n",
            "4   -1021.2222222222222  delta  2480.15873015873\n",
            "5   1458.936507936508  delta  -2755.731922398589\n",
            "6   -1296.7954144620812  delta  2087.67569878681\n",
            "7   790.8802843247286  delta  -1147.0745597729724\n",
            "8   -356.19427544824384  delta  477.9477332387385\n",
            "9   121.75345779049468  delta  -156.19206968586226\n",
            "10   -34.438611895367586  delta  41.10317623312165\n",
            "11   6.664564337754065  delta  -8.896791392450574\n",
            "12   -2.2322270546965086  delta  1.6117375710961184\n",
            "13   -0.6204894836003902  delta  -0.24795962632247975\n",
            "14   -0.8684491099228699  delta  0.03279889237069838\n",
            "15   -0.8356502175521716  delta  -0.003769987628815906\n",
            "16   -0.8394202051809875  delta  0.00038003907548547436\n",
            "math.coseno(10) =  -0.8390715290764524\n"
          ],
          "name": "stdout"
        }
      ]
    },
    {
      "cell_type": "code",
      "metadata": {
        "colab": {
          "base_uri": "https://localhost:8080/"
        },
        "id": "LhEYUAl6_jqB",
        "outputId": "c7bd49c3-cfae-4258-d89d-836ce0f6347c"
      },
      "source": [
        "import math\n",
        "\n",
        "x = 10\n",
        "epsilon = 10**(-4)\n",
        "delta = 1\n",
        "coseno = 0\n",
        "i = 0\n",
        "while  epsilon <= abs(delta):\n",
        "  coef = (-1)**i\n",
        "  num = x**(2*i)\n",
        "  denom = math.factorial(2*i)\n",
        "  delta = ( coef ) * ( (num)/(denom) )\n",
        "  coseno += delta\n",
        "  i = i+1\n",
        "print(i-1) \n",
        "print('coseno = ',coseno)    \n",
        "print('math.coseno(10) = ',math.cos(x))"
      ],
      "execution_count": null,
      "outputs": [
        {
          "output_type": "stream",
          "text": [
            "17\n",
            "coseno =  -0.8390740376808572\n",
            "math.coseno(10) =  -0.8390715290764524\n"
          ],
          "name": "stdout"
        }
      ]
    },
    {
      "cell_type": "markdown",
      "metadata": {
        "id": "RMumPidJmR4L"
      },
      "source": [
        "# $\\frac{1}{1-x}$"
      ]
    },
    {
      "cell_type": "code",
      "metadata": {
        "colab": {
          "base_uri": "https://localhost:8080/"
        },
        "id": "jEKjvskYHVgA",
        "outputId": "adbad61d-f238-44b9-a481-67aaeaa45243"
      },
      "source": [
        "import math\n",
        "\n",
        "x = 1/10\n",
        "epsilon = 10**(-4)\n",
        "\n",
        "for k in range(1000):\n",
        "  if abs(((1/(1-x)) *(x**k))) < epsilon:\n",
        "    break\n",
        "print(k)\n",
        "\n",
        "funcion = 0\n",
        "for i in range(k):\n",
        "  print(i,' ',funcion, ' delta ', ( x**i ))\n",
        "  funcion += (( x**i ) )\n",
        "\n",
        "a = 1/(1-x)\n",
        "print('1/(1-x) = ', a)"
      ],
      "execution_count": null,
      "outputs": [
        {
          "output_type": "stream",
          "text": [
            "5\n",
            "0   0  delta  1.0\n",
            "1   1.0  delta  0.1\n",
            "2   1.1  delta  0.010000000000000002\n",
            "3   1.11  delta  0.0010000000000000002\n",
            "4   1.111  delta  0.00010000000000000002\n",
            "1/(1-x) =  1.1111111111111112\n"
          ],
          "name": "stdout"
        }
      ]
    },
    {
      "cell_type": "code",
      "metadata": {
        "colab": {
          "base_uri": "https://localhost:8080/"
        },
        "id": "diuLvjlLHceJ",
        "outputId": "0fd68aed-ab52-4bb1-d28d-24a215b7baa4"
      },
      "source": [
        "import math\n",
        "\n",
        "x = 1/10\n",
        "epsilon = 10**(-4)\n",
        "delta = 1\n",
        "funcion = 0\n",
        "i = 0\n",
        "while  epsilon <= delta:\n",
        "  delta = x**i\n",
        "  funcion += delta\n",
        "  i = i+1\n",
        "print(i-1) \n",
        "print('1/(1-x) = ',funcion)    \n",
        "print('1/(1-x) = ',1/(1-x))"
      ],
      "execution_count": null,
      "outputs": [
        {
          "output_type": "stream",
          "text": [
            "5\n",
            "1/(1-x) =  1.11111\n",
            "1/(1-x) =  1.1111111111111112\n"
          ],
          "name": "stdout"
        }
      ]
    },
    {
      "cell_type": "markdown",
      "metadata": {
        "id": "vt8Psd96mUNl"
      },
      "source": [
        "# $ln\\left ( 1+x \\right )$"
      ]
    },
    {
      "cell_type": "code",
      "metadata": {
        "colab": {
          "base_uri": "https://localhost:8080/"
        },
        "id": "j9heJ03pOus9",
        "outputId": "30903a25-9169-4954-f3cd-9d60f0fc571a"
      },
      "source": [
        "import numpy as np\n",
        "import math\n",
        "\n",
        "x = 0.1\n",
        "epsilon = 10**(-4)\n",
        "\n",
        "for k in range(1, 1000):\n",
        "  if abs((np.log(1+x) * (-( ((-1)**k)*(x**k)/k )))) < epsilon:\n",
        "    break\n",
        "print(k)\n",
        "\n",
        "log_1 = 0\n",
        "for i in range(1, k):\n",
        "  print(i,' ',log_1, ' delta ', ((-( ((-1)**i)*(x**i)/i ))))\n",
        "  log_1 += ((-( ((-1)**i)*(x**i)/i )))\n",
        "\n",
        "a = np.log(1+x)\n",
        "print('ln(1+n) = ', a)"
      ],
      "execution_count": null,
      "outputs": [
        {
          "output_type": "stream",
          "text": [
            "3\n",
            "1   0  delta  0.1\n",
            "2   0.1  delta  -0.005000000000000001\n",
            "ln(1+n) =  0.09531017980432493\n"
          ],
          "name": "stdout"
        }
      ]
    },
    {
      "cell_type": "code",
      "metadata": {
        "colab": {
          "base_uri": "https://localhost:8080/"
        },
        "id": "enAFAba9O2KG",
        "outputId": "bb51d0d1-953a-4773-dbfa-75a3c01034e6"
      },
      "source": [
        "import math\n",
        "\n",
        "x = 0.1\n",
        "epsilon = 10**(-4)\n",
        "delta = 1\n",
        "funcion = 0\n",
        "i = 1\n",
        "while  epsilon <= delta:\n",
        "  delta = (-( ((-1)**i)*(x**i)/i ))\n",
        "  funcion += delta\n",
        "  i = i+1\n",
        "print(i-1) \n",
        "print('ln(1+x) = ',funcion)    \n",
        "print('ln(1+x) = ',np.log(1+x))"
      ],
      "execution_count": null,
      "outputs": [
        {
          "output_type": "stream",
          "text": [
            "2\n",
            "ln(1+x) =  0.095\n",
            "ln(1+x) =  0.09531017980432493\n"
          ],
          "name": "stdout"
        }
      ]
    },
    {
      "cell_type": "markdown",
      "metadata": {
        "id": "iz2p_cc6mYG1"
      },
      "source": [
        "# $ln\\left ( x \\right )$"
      ]
    },
    {
      "cell_type": "code",
      "metadata": {
        "colab": {
          "base_uri": "https://localhost:8080/"
        },
        "id": "0_fp6uXsS_Nh",
        "outputId": "f3fbef31-206e-4bd6-b321-020d237dc79b"
      },
      "source": [
        "import numpy as np\n",
        "import math\n",
        "\n",
        "x = 1.5\n",
        "epsilon = 10**(-4)\n",
        "\n",
        "for k in range(1, 1000):\n",
        "  if abs((np.log(x) * ( ((-1)**(k-1))*((x-1)**k)/k ))) < epsilon:\n",
        "    break\n",
        "print(k)\n",
        "\n",
        "log_1 = 0\n",
        "for i in range(1, k):\n",
        "  print(i,' ',log_1, ' delta ', ( ((-1)**(i-1))*((x-1)**i)/i ))\n",
        "  log_1 += ( ((-1)**(i-1))*((x-1)**i)/i )\n",
        "\n",
        "a = np.log(x)\n",
        "print('ln(x) = ', a)"
      ],
      "execution_count": null,
      "outputs": [
        {
          "output_type": "stream",
          "text": [
            "9\n",
            "1   0  delta  0.5\n",
            "2   0.5  delta  -0.125\n",
            "3   0.375  delta  0.041666666666666664\n",
            "4   0.4166666666666667  delta  -0.015625\n",
            "5   0.4010416666666667  delta  0.00625\n",
            "6   0.40729166666666666  delta  -0.0026041666666666665\n",
            "7   0.4046875  delta  0.0011160714285714285\n",
            "8   0.40580357142857143  delta  -0.00048828125\n",
            "ln(x) =  0.4054651081081644\n"
          ],
          "name": "stdout"
        }
      ]
    },
    {
      "cell_type": "code",
      "metadata": {
        "colab": {
          "base_uri": "https://localhost:8080/"
        },
        "id": "iD2-vaDkTEP-",
        "outputId": "1425b8a2-14c8-4332-fe29-4488246801ac"
      },
      "source": [
        "import math\n",
        "\n",
        "x = 1.5\n",
        "epsilon = 10**(-4)\n",
        "delta = 1\n",
        "funcion = 0\n",
        "i = 1\n",
        "while  epsilon <= abs(delta):\n",
        "  delta = ( ((-1)**(i-1))*((x-1)**i)/i )\n",
        "  funcion += delta\n",
        "  i = i+1\n",
        "print(i-1) \n",
        "print('ln(x) = ',funcion)    \n",
        "print('ln(x) = ',np.log(x))"
      ],
      "execution_count": null,
      "outputs": [
        {
          "output_type": "stream",
          "text": [
            "10\n",
            "ln(x) =  0.4054346478174603\n",
            "ln(x) =  0.4054651081081644\n"
          ],
          "name": "stdout"
        }
      ]
    }
  ]
}