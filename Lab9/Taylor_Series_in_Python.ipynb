{
  "nbformat": 4,
  "nbformat_minor": 0,
  "metadata": {
    "colab": {
      "name": "Taylor Series in Python.ipynb",
      "provenance": [],
      "collapsed_sections": []
    },
    "kernelspec": {
      "name": "python3",
      "display_name": "Python 3"
    },
    "language_info": {
      "name": "python"
    }
  },
  "cells": [
    {
      "cell_type": "markdown",
      "metadata": {
        "id": "FTuYwqJtFMBG"
      },
      "source": [
        "# **TAYLOR SERIES IN PYTHON**\n",
        "`From Python for Undergraduate Engineers`"
      ]
    },
    {
      "cell_type": "markdown",
      "metadata": {
        "id": "JH8W_HKWT1u8"
      },
      "source": [
        "# $e^{x}$"
      ]
    },
    {
      "cell_type": "markdown",
      "metadata": {
        "id": "IusDaIeSFXo9"
      },
      "source": [
        "This time, we will review how to create a Taylor Series with Python and for loops. Then we will refactor the Taylor Series into functions and compare the output of our Taylor Series functions to functions from Python's Standard Library.\n",
        "\n",
        "A Taylor Series is an infinite series of mathematical terms that when summed together approximate a mathematical function. A Taylor Series can be used to approximate $e^{x}$, and cosine.\n",
        "\n",
        "An example of a Taylor Series that approximates $e^{x}$ is below.\n",
        "\n",
        "\\begin{equation}\n",
        "e^{x} \\approx \\sum_{n=0}^{\\infty } \\approx  1 + x + \\frac{x^{2}}{2!} + \\frac{x^{3}}{3!} + \\frac{x^{4}}{4!} + \\cdots \n",
        "\\end{equation}\n",
        "\n",
        "We can see that each term in the Taylor Series expansion is dependent on that term's place in the series. Below is a chart that shows each term of the Taylor Series in a row. The columns of the table represent the term index, the mathematical term and, how to code that term in Python. Note that the `factorial()` function is part of the `math` module in Python's Standard Library.\n",
        "\n",
        "|Term Index | Mathematical Term |Term coded in Python |\n",
        "|-----------|:------------------|:--------------------|\n",
        "|0          |$\\frac{x^{0}}{0!}$ |`x**0/math.factorial(0)`|\n",
        "|1          |$\\frac{x^{1}}{1!}$ |`x**1/math.factorial(1)`|\n",
        "|2          |$\\frac{x^{2}}{2!}$ |`x**2/math.factorial(2)`|\n",
        "|3          |$\\frac{x^{3}}{3!}$ |`x**3/math.factorial(3)`|\n",
        "|4          |$\\frac{x^{4}}{4!}$ |`x**4/math.factorial(4)`|"
      ]
    },
    {
      "cell_type": "markdown",
      "metadata": {
        "id": "5o2moOnhIxRE"
      },
      "source": [
        "## Code the Taylor Series by writing out each term individually"
      ]
    },
    {
      "cell_type": "markdown",
      "metadata": {
        "id": "S1uslLqsJAx8"
      },
      "source": [
        "We can combine these terms in a line of Python code to estimate $e^{2}$. The code below calculates the sum of the first five terms of the Taylor Series expansion of $e^{x}$, where $x=2$. Note the `math` module needs to be imported before `math.factorial()` can be used."
      ]
    },
    {
      "cell_type": "code",
      "metadata": {
        "colab": {
          "base_uri": "https://localhost:8080/"
        },
        "id": "ScbexwfHEeDi",
        "outputId": "45157264-8a10-440a-c762-b74e2e7b9d8c"
      },
      "source": [
        "import math\n",
        "\n",
        "x = 2\n",
        "e_to_2 = x**0/math.factorial(0) + x**1/math.factorial(1) + x**2/math.factorial(2) + x**3/math.factorial(3) + x**4/math.factorial(4)\n",
        "print(e_to_2)"
      ],
      "execution_count": null,
      "outputs": [
        {
          "output_type": "stream",
          "text": [
            "7.0\n"
          ],
          "name": "stdout"
        }
      ]
    },
    {
      "cell_type": "markdown",
      "metadata": {
        "id": "wP5O4rB5JWI3"
      },
      "source": [
        "Our Taylor Series approximation of $e^{2}$ was calculated as `7.0`. Let's compare our Taylor Series approximation to Python's `math.exp()`function. Python's `math.exp(`) function raises e to any power. In our case, we want to use `math.exp(2)` because we want to calculate $e^{2}$."
      ]
    },
    {
      "cell_type": "code",
      "metadata": {
        "colab": {
          "base_uri": "https://localhost:8080/"
        },
        "id": "eruZs5mTJwcB",
        "outputId": "0cefa592-8b80-474d-a7c2-441d98c54c28"
      },
      "source": [
        "print(math.exp(2))"
      ],
      "execution_count": null,
      "outputs": [
        {
          "output_type": "stream",
          "text": [
            "7.38905609893065\n"
          ],
          "name": "stdout"
        }
      ]
    },
    {
      "cell_type": "markdown",
      "metadata": {
        "id": "WDlQ0Xa5Jy3P"
      },
      "source": [
        "Our Taylor Series approximation `7.0` is not that far off the calculated value `7.389056...` using Python's `exp()` function."
      ]
    },
    {
      "cell_type": "markdown",
      "metadata": {
        "id": "p2KKJe6cJ6Gf"
      },
      "source": [
        "## Use a *for loop* to calculate a Taylor Series"
      ]
    },
    {
      "cell_type": "markdown",
      "metadata": {
        "id": "YmFLkiYEKAvZ"
      },
      "source": [
        "If we want to get closer to the value of $e^{x}$, we need to add more terms to our Taylor Series. The problem is coding each individual term is time-consuming and repetitive. Instead of coding each term individually, we can use a *for loop*. A *for loop* is a repetition structure in Python that runs a section of code a specified number of times. The syntax for coding a for loop in Python using the `range()` function is below:\n",
        "\n",
        "\n",
        "```\n",
        "for <var> in range(<num>):\n",
        "    <code>\n",
        "```\n",
        "\n",
        "Where `<var>` is any valid Python variable name and `<num>` is an integer to determines how many times the `<code>` in the loop runs.\n",
        "\n",
        "We can recreate our approximation of $e^{2}$ with 5 terms using a for loop. Note we need to set the variable `e_to_2` to `0` before the loop starts. The mathematical operator `+=` in the line `e_to_2 += x**i/math.factorial(i)` is equivalent to `e_to_2 = e_to_2 + x**i/math.factorial(i)`.\n",
        "\n"
      ]
    },
    {
      "cell_type": "code",
      "metadata": {
        "colab": {
          "base_uri": "https://localhost:8080/"
        },
        "id": "2ICYvD5SK2_Z",
        "outputId": "65563adb-764d-4b9d-e4ef-ac892845e53b"
      },
      "source": [
        "import math\n",
        "\n",
        "x = 2\n",
        "e_to_2 = 0\n",
        "for i in range(5):\n",
        "    e_to_2 += x**i/math.factorial(i)\n",
        "    \n",
        "print(e_to_2)"
      ],
      "execution_count": null,
      "outputs": [
        {
          "output_type": "stream",
          "text": [
            "7.0\n"
          ],
          "name": "stdout"
        }
      ]
    },
    {
      "cell_type": "markdown",
      "metadata": {
        "id": "YqNZnpQeK6GM"
      },
      "source": [
        "The result `7.0` is the same as the result we calculated when we wrote out each term of the Taylor Series individually.\n",
        "\n",
        "An advantage of using a for loop is that we can easily increase the number of terms. If we increase the number of times the for loop runs, we increase the number of terms in the Taylor Series expansion. Let's try `10` terms. Note how the line `for i in range(10):` now includes `10` passed to the `range()` function."
      ]
    },
    {
      "cell_type": "code",
      "metadata": {
        "colab": {
          "base_uri": "https://localhost:8080/"
        },
        "id": "MZUrBlF_LEnn",
        "outputId": "9bfffa23-b911-4590-f2c5-1d168854cae8"
      },
      "source": [
        "import math\n",
        "\n",
        "x = 2\n",
        "e_to_2 = 0\n",
        "for i in range(10):\n",
        "    e_to_2 += x**i/math.factorial(i)\n",
        "    \n",
        "print(e_to_2)"
      ],
      "execution_count": null,
      "outputs": [
        {
          "output_type": "stream",
          "text": [
            "7.3887125220458545\n"
          ],
          "name": "stdout"
        }
      ]
    },
    {
      "cell_type": "markdown",
      "metadata": {
        "id": "_1sfGZV7LHAN"
      },
      "source": [
        "The result is `7.38871....` Let's see how close that is to $e^{2}$ calculated with Python's `exp()` function."
      ]
    },
    {
      "cell_type": "code",
      "metadata": {
        "colab": {
          "base_uri": "https://localhost:8080/"
        },
        "id": "x28FuENWLUOk",
        "outputId": "47e19848-b8d6-40b2-908e-71e48e280a13"
      },
      "source": [
        "print(math.exp(2))"
      ],
      "execution_count": null,
      "outputs": [
        {
          "output_type": "stream",
          "text": [
            "7.38905609893065\n"
          ],
          "name": "stdout"
        }
      ]
    },
    {
      "cell_type": "markdown",
      "metadata": {
        "id": "2of02WvXLW77"
      },
      "source": [
        "The result is `7.38905....` We get closer to the value of $e^{2}$ when `10` terms are used in the Taylor Series compared to when `5` terms were used in the Taylor Series."
      ]
    },
    {
      "cell_type": "markdown",
      "metadata": {
        "id": "QJhpbODLLlSu"
      },
      "source": [
        "## Refactor the *for loop* into a function"
      ]
    },
    {
      "cell_type": "markdown",
      "metadata": {
        "id": "NnA9qPqqLvNn"
      },
      "source": [
        "Next, let's refactor the code above that contained a for loop (which calculated $e^{2}$) into a function that can compute $e$ raised to any power estimated with any number of terms in the Taylor Series. The general syntax to define a function in Python is below.\n",
        "\n",
        "```\n",
        "def <func name>(<arg 1>, <arg 2>, ...):\n",
        "    <code>\n",
        "    return <output>\n",
        "```\n",
        "\n",
        "Where `def` is the Python keyword that defines a function, `<func name>` is a valid Python variable name, and `<arg 1>, <arg 2>` are the input arguments passed to the function. `<code>` that runs when the function is called must be indented (the standard indentation is 4 spaces). The keyword `return` denotes the `<output>` of the function.\n",
        "\n",
        "Let's code our *for loop* that approximates $e^{2}$ into a function.\n"
      ]
    },
    {
      "cell_type": "code",
      "metadata": {
        "id": "EKaqpX_NLxw_"
      },
      "source": [
        "import math\n",
        "\n",
        "def func_e_to_2(n):\n",
        "    x = 2\n",
        "    e_to_2 = 0\n",
        "    for i in range(n):\n",
        "        e_to_2 += x**i/math.factorial(i)\n",
        "    \n",
        "    return e_to_2"
      ],
      "execution_count": null,
      "outputs": []
    },
    {
      "cell_type": "markdown",
      "metadata": {
        "id": "L7rRMu6TMNbq"
      },
      "source": [
        "If we call our `function func_e_to_2()` with the input argument `10`, the result is the same as when we ran the *for loop* `10` times."
      ]
    },
    {
      "cell_type": "code",
      "metadata": {
        "colab": {
          "base_uri": "https://localhost:8080/"
        },
        "id": "QLqTtXwRMTDT",
        "outputId": "57b79023-15df-4cd0-bc83-f6aaa6d88d69"
      },
      "source": [
        "out = func_e_to_2(10)\n",
        "print(out)"
      ],
      "execution_count": null,
      "outputs": [
        {
          "output_type": "stream",
          "text": [
            "7.3887125220458545\n"
          ],
          "name": "stdout"
        }
      ]
    },
    {
      "cell_type": "markdown",
      "metadata": {
        "id": "n6wVjWJ6MV7x"
      },
      "source": [
        "The output of our `func_e_to_2()` function is `7.38871...`.\n",
        "\n",
        "We can make our function more general by setting `x` (the number that e gets raised to) as an input argument. Note how now there are two input arguments in the function definition `(x, n)`. `x` is the number e is raised to, and `n` is the number of terms in the Taylor Series (which is the number of times the for loop runs on the inside of the function definition)."
      ]
    },
    {
      "cell_type": "code",
      "metadata": {
        "id": "8AXVf4vXMjJK"
      },
      "source": [
        "import math\n",
        "\n",
        "def func_e(x, n):\n",
        "    e_approx = 0\n",
        "    for i in range(n):\n",
        "        e_approx += x**i/math.factorial(i)\n",
        "    \n",
        "    return e_approx"
      ],
      "execution_count": null,
      "outputs": []
    },
    {
      "cell_type": "markdown",
      "metadata": {
        "id": "bInZsA2WMke4"
      },
      "source": [
        "Let's calculate $e^{2}$ using `10` terms with our new `func_e()` function."
      ]
    },
    {
      "cell_type": "code",
      "metadata": {
        "colab": {
          "base_uri": "https://localhost:8080/"
        },
        "id": "eQmSXMwKMuhw",
        "outputId": "2acae7f8-94e9-4953-d130-b7636a529daf"
      },
      "source": [
        "out = func_e(2,10)\n",
        "print(out)"
      ],
      "execution_count": null,
      "outputs": [
        {
          "output_type": "stream",
          "text": [
            "7.3887125220458545\n"
          ],
          "name": "stdout"
        }
      ]
    },
    {
      "cell_type": "markdown",
      "metadata": {
        "id": "xGWfgBE5M3qK"
      },
      "source": [
        "The result is `7.38871...`, the same result as before.\n",
        "\n",
        "An advantage to writing our Taylor Series expansion in a function is that now the Taylor Series approximation calculation is reusable and can be called in one line of code. For instance, we can estimate the value of $e^{5}$ with `10` terms, by calling our `func_e()` function with the input arguments `(5,10)`."
      ]
    },
    {
      "cell_type": "code",
      "metadata": {
        "colab": {
          "base_uri": "https://localhost:8080/"
        },
        "id": "FthXGb0QNCoG",
        "outputId": "1235da65-1a17-4461-c669-311e5081d9c0"
      },
      "source": [
        "out = func_e(5,10)\n",
        "print(out)"
      ],
      "execution_count": null,
      "outputs": [
        {
          "output_type": "stream",
          "text": [
            "143.68945656966488\n"
          ],
          "name": "stdout"
        }
      ]
    },
    {
      "cell_type": "markdown",
      "metadata": {
        "id": "tYOnzyn0ND9o"
      },
      "source": [
        "The result is `143.68945...`. Let's see how close this value is to Python's `exp()` function when we make the same calculation $e^{5}$."
      ]
    },
    {
      "cell_type": "code",
      "metadata": {
        "colab": {
          "base_uri": "https://localhost:8080/"
        },
        "id": "UIr8kJ1JNLpJ",
        "outputId": "bac414a8-773e-4695-d999-0fe203665604"
      },
      "source": [
        "out = math.exp(5)\n",
        "print(out)"
      ],
      "execution_count": null,
      "outputs": [
        {
          "output_type": "stream",
          "text": [
            "148.4131591025766\n"
          ],
          "name": "stdout"
        }
      ]
    },
    {
      "cell_type": "markdown",
      "metadata": {
        "id": "Vu6o84gpNNJH"
      },
      "source": [
        "The result is `148.41315...`. The Taylor Series approximation calculated by our `func_e()` function is pretty close to the value calculated by Python's `exp()` function."
      ]
    },
    {
      "cell_type": "markdown",
      "metadata": {
        "id": "Tc6tk7cWNSz_"
      },
      "source": [
        "## Use a *for loop* to calculate the difference between the Taylor Series expansion and Python's `exp()`function"
      ]
    },
    {
      "cell_type": "markdown",
      "metadata": {
        "id": "KBg1TjMaNfXm"
      },
      "source": [
        "Now let's use a *for loop* to calculate the difference between the Taylor Series expansion as calculated by our `func_e()` function compared to Python's `exp()` function. We'll calculate the difference between the two functions when we use between `1` and `10` terms in the Taylor Series expansion.\n",
        "\n",
        "The code below uses *f-strings*, which is a Python syntax for inserting the value of a variable in a string. The general syntax for an f-string in Python is below.\n",
        "\n",
        "```\n",
        "f'string statment {<var>}'\n",
        "```\n",
        "\n",
        "Where `f` denotes the beginning of an f-string, the f-string is surrounded by quotes `' '`, and the variable `<var>` is enclosed in curly braces `{ }`. The value of `<var>` will be printed out without the curly braces.\n",
        "\n"
      ]
    },
    {
      "cell_type": "code",
      "metadata": {
        "colab": {
          "base_uri": "https://localhost:8080/"
        },
        "id": "NkeZSuCFN5Qe",
        "outputId": "a73b60f7-db2d-4822-ca62-da1cca6e629e"
      },
      "source": [
        "import math\n",
        "\n",
        "x = 5\n",
        "for i in range(1,11):\n",
        "    e_approx = func_e(x,i)\n",
        "    e_exp = math.exp(x)\n",
        "    e_error = abs(e_approx - e_exp)\n",
        "    print(f'{i} terms: Taylor Series approx= {e_approx}, exp calc= {e_exp}, error = {e_error}')"
      ],
      "execution_count": null,
      "outputs": [
        {
          "output_type": "stream",
          "text": [
            "1 terms: Taylor Series approx= 1.0, exp calc= 148.4131591025766, error = 147.4131591025766\n",
            "2 terms: Taylor Series approx= 6.0, exp calc= 148.4131591025766, error = 142.4131591025766\n",
            "3 terms: Taylor Series approx= 18.5, exp calc= 148.4131591025766, error = 129.9131591025766\n",
            "4 terms: Taylor Series approx= 39.33333333333333, exp calc= 148.4131591025766, error = 109.07982576924327\n",
            "5 terms: Taylor Series approx= 65.375, exp calc= 148.4131591025766, error = 83.0381591025766\n",
            "6 terms: Taylor Series approx= 91.41666666666667, exp calc= 148.4131591025766, error = 56.99649243590993\n",
            "7 terms: Taylor Series approx= 113.11805555555556, exp calc= 148.4131591025766, error = 35.29510354702104\n",
            "8 terms: Taylor Series approx= 128.61904761904762, exp calc= 148.4131591025766, error = 19.79411148352898\n",
            "9 terms: Taylor Series approx= 138.30716765873015, exp calc= 148.4131591025766, error = 10.105991443846449\n",
            "10 terms: Taylor Series approx= 143.68945656966488, exp calc= 148.4131591025766, error = 4.723702532911716\n"
          ],
          "name": "stdout"
        }
      ]
    },
    {
      "cell_type": "markdown",
      "metadata": {
        "id": "D8Ivm-yAN7me"
      },
      "source": [
        "Note how the error decreases as we add terms to the Taylor Series. When the Taylor Series only has 1 term, the error is `147.41...`. When `10` terms are used in the Taylor Series, the error goes down to `4.7237...`."
      ]
    },
    {
      "cell_type": "markdown",
      "metadata": {
        "id": "qv-yeOyAOAf7"
      },
      "source": [
        "## Use a `break`statement to exit a *for loop* early."
      ]
    },
    {
      "cell_type": "markdown",
      "metadata": {
        "id": "lAyRvK6OOIAB"
      },
      "source": [
        "How many terms would it take to produce an error of less than `1`? We can use a `break` statement to drop out of the for loop when the error is less than `1`. The code below calculates how many terms are needed in the Taylor Series, when $e^{5}$ is calculated, to keep the error less than `1`."
      ]
    },
    {
      "cell_type": "code",
      "metadata": {
        "colab": {
          "base_uri": "https://localhost:8080/"
        },
        "id": "tGeKhZk4OUQj",
        "outputId": "e8cb1fa0-24ac-4b66-dfb8-c1e96a3aee5f"
      },
      "source": [
        "import math\n",
        "\n",
        "x = 5\n",
        "for i in range(1,20):\n",
        "    e_approx = func_e(x,i)\n",
        "    e_exp = math.exp(x)\n",
        "    e_error = abs(e_approx - e_exp)\n",
        "    if e_error < 1:\n",
        "        break\n",
        "        \n",
        "print(f'{i} terms: Taylor Series approx= {e_approx}, exp calc= {e_exp}, error = {e_error}')"
      ],
      "execution_count": null,
      "outputs": [
        {
          "output_type": "stream",
          "text": [
            "12 terms: Taylor Series approx= 147.60384850489015, exp calc= 148.4131591025766, error = 0.8093105976864479\n"
          ],
          "name": "stdout"
        }
      ]
    },
    {
      "cell_type": "markdown",
      "metadata": {
        "id": "IONRywJ6OVkO"
      },
      "source": [
        "The output shows that it takes `12` terms in the Taylor Series to drop the error below `1`."
      ]
    },
    {
      "cell_type": "code",
      "metadata": {
        "colab": {
          "base_uri": "https://localhost:8080/",
          "height": 281
        },
        "id": "IzaNZHrrA6YF",
        "outputId": "2a5ad59c-42ec-4d0d-d2fa-80fc118e677f"
      },
      "source": [
        "import math\n",
        "import numpy as np\n",
        "import matplotlib.pyplot as plt\n",
        "# if using a Jupyter notebook, include:\n",
        "%matplotlib inline\n",
        "\n",
        "a = -4.; b = 4.\n",
        "x = np.linspace(a,b)\n",
        " \n",
        "plt.figure()\n",
        "plt.plot(x,func_e(x, 6), label = 'f')\n",
        "\n",
        "for grado in range(1,5):\n",
        "    plt.plot(x,func_e(x,grado), label = f'Taylor Series - {str(grado)} terms')\n",
        "    \n",
        "plt.title('Serie Taylor de la Función e^x') \n",
        "plt.legend()                           \n",
        "plt.show()"
      ],
      "execution_count": null,
      "outputs": [
        {
          "output_type": "display_data",
          "data": {
            "image/png": "[encoded data removed]",
            "text/plain": [
              "<Figure size 432x288 with 1 Axes>"
            ]
          },
          "metadata": {
            "tags": [],
            "needs_background": "light"
          }
        }
      ]
    },
    {
      "cell_type": "markdown",
      "metadata": {
        "id": "L7PqA0pNUcIR"
      },
      "source": [
        "# $sen(x)$"
      ]
    },
    {
      "cell_type": "markdown",
      "metadata": {
        "id": "KOmLSFV8Ukua"
      },
      "source": [
        "Next, let's calculate the value of the cosine function using a Taylor Series. The Taylor Series expansion for $cos(x)$ is below.\n",
        "\n",
        "\\begin{equation}\n",
        "cos(x) \\approx \\sum_{n=0}^{\\infty }\\left ( -1 \\right )^{n} \\frac{x^{2n+1}}{\\left ( 2n+1 \\right )!} \\approx  x -  \\frac{x^{3}}{3!} + \\frac{x^{5}}{5!} - \\frac{x^{7}}{7!} + \\frac{x^{9}}{9!} - \\frac{x^{11}}{11!}+ \\cdots \n",
        "\\end{equation}\n",
        "\n",
        "We can code this formula into a function that contains a *for loop*."
      ]
    },
    {
      "cell_type": "code",
      "metadata": {
        "id": "wlxoZfjmU_NR"
      },
      "source": [
        "import math\n",
        "\n",
        "def func_sen(x, n):\n",
        "    sen_approx = 0\n",
        "    for i in range(n):\n",
        "        coef = (-1)**i\n",
        "        num = x**(2*i + 1)\n",
        "        denom = math.factorial(2*i + 1)\n",
        "        sen_approx += ( coef ) * ( (num)/(denom) )\n",
        "    \n",
        "    return sen_approx"
      ],
      "execution_count": null,
      "outputs": []
    },
    {
      "cell_type": "markdown",
      "metadata": {
        "id": "EfTY9Na2VsId"
      },
      "source": [
        "For instance, if we use 3 terms in the Taylor Series approximation, our plot has two lines. One line for Python's `sen()` function and one line for our `func_sen()` function with three terms in the Taylor series approximation. We'll calculate the cosine using both functions for angles between $−2π$ radians and $2π$ radians."
      ]
    },
    {
      "cell_type": "code",
      "metadata": {
        "colab": {
          "base_uri": "https://localhost:8080/",
          "height": 265
        },
        "id": "Wvu2ZGtUVZMc",
        "outputId": "da19c8c2-0029-498e-c754-3953614d37ca"
      },
      "source": [
        "import math\n",
        "import numpy as np\n",
        "import matplotlib.pyplot as plt\n",
        "# if using a Jupyter notebook, include:\n",
        "%matplotlib inline\n",
        "\n",
        "angles = np.arange(-2*np.pi,2*np.pi,0.1)\n",
        "p_sen = np.sin(angles)\n",
        "t_sen = [func_sen(angle,3) for angle in angles]\n",
        "\n",
        "fig, ax = plt.subplots()\n",
        "ax.plot(angles,p_sen)\n",
        "ax.plot(angles,t_sen)\n",
        "ax.set_ylim([-5,5])\n",
        "ax.legend(['sen() function','Taylor Series - 3 terms'])\n",
        "\n",
        "plt.show()"
      ],
      "execution_count": null,
      "outputs": [
        {
          "output_type": "display_data",
          "data": {
            "image/png": "[encoded data removed]",
            "text/plain": [
              "<Figure size 432x288 with 1 Axes>"
            ]
          },
          "metadata": {
            "tags": [],
            "needs_background": "light"
          }
        }
      ]
    },
    {
      "cell_type": "markdown",
      "metadata": {
        "id": "E8pLd7jDWOd9"
      },
      "source": [
        "We can use a for loop to see how much better adding additional terms to our Taylor Series approximation compares to Python's `sen()` function."
      ]
    },
    {
      "cell_type": "code",
      "metadata": {
        "colab": {
          "base_uri": "https://localhost:8080/",
          "height": 269
        },
        "id": "UoQqTSyTWUrt",
        "outputId": "32737dcd-f8e3-4615-ae2e-95f48bfd98d7"
      },
      "source": [
        "import math\n",
        "import numpy as np\n",
        "import matplotlib.pyplot as plt\n",
        "# if using a Jupyter notebook, include:\n",
        "%matplotlib inline\n",
        "\n",
        "angles = np.arange(-2*np.pi,2*np.pi,0.1)\n",
        "p_sen = np.sin(angles)\n",
        "\n",
        "fig, ax = plt.subplots()\n",
        "ax.plot(angles,p_sen)\n",
        "\n",
        "# add lines for between 1 and 6 terms in the Taylor Series\n",
        "for i in range(1,6):\n",
        "    t_sen = [func_sen(angle,i) for angle in angles]\n",
        "    ax.plot(angles,t_sen)\n",
        "\n",
        "ax.set_ylim([-7,4])\n",
        "\n",
        "# set up legend\n",
        "legend_lst = ['sen() function']\n",
        "for i in range(1,6):\n",
        "    legend_lst.append(f'Taylor Series - {i} terms')\n",
        "ax.legend(legend_lst, loc=3)\n",
        "\n",
        "plt.show()"
      ],
      "execution_count": null,
      "outputs": [
        {
          "output_type": "display_data",
          "data": {
            "image/png": "[encoded data removed]",
            "text/plain": [
              "<Figure size 432x288 with 1 Axes>"
            ]
          },
          "metadata": {
            "tags": [],
            "needs_background": "light"
          }
        }
      ]
    },
    {
      "cell_type": "markdown",
      "metadata": {
        "id": "KnH8Nva6UXKz"
      },
      "source": [
        "# $cos(x)$"
      ]
    },
    {
      "cell_type": "markdown",
      "metadata": {
        "id": "Yf5rx6gXOYpn"
      },
      "source": [
        "## Create a function to estimate the value of *cos(x)* using a Taylor Series"
      ]
    },
    {
      "cell_type": "markdown",
      "metadata": {
        "id": "-kYngyW-Oh4E"
      },
      "source": [
        "Next, let's calculate the value of the cosine function using a Taylor Series. The Taylor Series expansion for $cos(x)$ is below.\n",
        "\n",
        "\\begin{equation}\n",
        "cos(x) \\approx \\sum_{n=0}^{\\infty }\\left ( -1 \\right )^{n} \\frac{x^{2n}}{\\left ( 2n \\right )!} \\approx  1 -  \\frac{x^{2}}{2!} + \\frac{x^{4}}{4!} - \\frac{x^{6}}{6!} + \\frac{x^{8}}{8!} - \\frac{x^{10}}{10!}+ \\cdots \n",
        "\\end{equation}\n",
        "\n",
        "We can code this formula into a function that contains a *for loop*. Note the variable `x` is the value we are trying to find the cosine of, the variable `n` is the number of terms in the Taylor Series, and the variable `i` is the loop index which is also the Taylor Series term number. We are using a separate variable for the coefficient `coef` which is equal to $(−1)i$, the numerator `num` which is equal to $x^{2i}$ and the denominator `denom` which is equal to $(2i!)$. Breaking the Taylor Series formula into three parts can cut down on coding errors."
      ]
    },
    {
      "cell_type": "code",
      "metadata": {
        "id": "FVO1Ym2GP8ad"
      },
      "source": [
        "import math\n",
        "\n",
        "def func_cos(x, n):\n",
        "    cos_approx = 0\n",
        "    for i in range(n):\n",
        "        coef = (-1)**i\n",
        "        num = x**(2*i)\n",
        "        denom = math.factorial(2*i)\n",
        "        cos_approx += ( coef ) * ( (num)/(denom) )\n",
        "    \n",
        "    return cos_approx"
      ],
      "execution_count": null,
      "outputs": []
    },
    {
      "cell_type": "markdown",
      "metadata": {
        "id": "e9R5-8GDP-Mb"
      },
      "source": [
        "Let's use our `func_cos()` function to estimate the cosine of 45 degrees. Note that `func_cos() `function computes the cosine of an angle in radians. If we want to calculate the cosine of 45 degrees using our function, we first have to convert 45 degrees into radians. Luckily, Python's `math` module has a function called `radians()` that makes the angle conversion early."
      ]
    },
    {
      "cell_type": "code",
      "metadata": {
        "colab": {
          "base_uri": "https://localhost:8080/"
        },
        "id": "-4oCylcEQEWZ",
        "outputId": "bbc42ab9-4603-4619-e660-6cc0b62c74fe"
      },
      "source": [
        "angle_rad = (math.radians(45))\n",
        "out = func_cos(angle_rad,5)\n",
        "print(out)"
      ],
      "execution_count": null,
      "outputs": [
        {
          "output_type": "stream",
          "text": [
            "0.7071068056832942\n"
          ],
          "name": "stdout"
        }
      ]
    },
    {
      "cell_type": "markdown",
      "metadata": {
        "id": "gZpRms2hQF_b"
      },
      "source": [
        "Using our `func_cos()` function and `5` terms in the Taylor Series approximation, we estimate the cosine of 45 degrees is `0.707106805...`. Let's check our `func_cos()` function compared to Python's `cos()` function from the `math` module."
      ]
    },
    {
      "cell_type": "code",
      "metadata": {
        "colab": {
          "base_uri": "https://localhost:8080/"
        },
        "id": "clLGc6xsQOUt",
        "outputId": "95cc298b-6d98-4a21-e7d7-d16a316bdb14"
      },
      "source": [
        "out = math.cos(angle_rad)\n",
        "print(out)"
      ],
      "execution_count": null,
      "outputs": [
        {
          "output_type": "stream",
          "text": [
            "0.7071067811865476\n"
          ],
          "name": "stdout"
        }
      ]
    },
    {
      "cell_type": "markdown",
      "metadata": {
        "id": "XuHjasn1QP6o"
      },
      "source": [
        "Using Python's `cos()` function, the cosine of 45 degrees returns `0.707106781...` This value is very close to the approximation calculated using our `func_cos()` function."
      ]
    },
    {
      "cell_type": "markdown",
      "metadata": {
        "id": "4TwlUGkvQWpQ"
      },
      "source": [
        "## Build a plot to compare the Taylor Series approximation to Python's `cos(x)` function"
      ]
    },
    {
      "cell_type": "markdown",
      "metadata": {
        "id": "osXo3YUvQg_T"
      },
      "source": [
        "In the last part of this post, we are going to build a plot that shows how the Taylor Series approximation calculated by our `func_cos()` function compares to Python's `cos()` function.\n",
        "\n",
        "The idea is to make a plot that has one line for Python's `cos()` function and lines for the Taylor Series approximation based on different numbers of terms.\n",
        "\n",
        "For instance, if we use 3 terms in the Taylor Series approximation, our plot has two lines. One line for Python's `cos()` function and one line for our `func_cos()` function with three terms in the Taylor series approximation. We'll calculate the cosine using both functions for angles between $−2π$ radians and $2π$ radians."
      ]
    },
    {
      "cell_type": "code",
      "metadata": {
        "colab": {
          "base_uri": "https://localhost:8080/",
          "height": 265
        },
        "id": "2gSufRNXQV_8",
        "outputId": "c5087853-b2a3-4a5e-90cf-275201c8b7c3"
      },
      "source": [
        "import math\n",
        "import numpy as np\n",
        "import matplotlib.pyplot as plt\n",
        "# if using a Jupyter notebook, include:\n",
        "%matplotlib inline\n",
        "\n",
        "angles = np.arange(-2*np.pi,2*np.pi,0.1)\n",
        "p_cos = np.cos(angles)\n",
        "t_cos = [func_cos(angle,3) for angle in angles]\n",
        "\n",
        "fig, ax = plt.subplots()\n",
        "ax.plot(angles,p_cos)\n",
        "ax.plot(angles,t_cos)\n",
        "ax.set_ylim([-5,5])\n",
        "ax.legend(['cos() function','Taylor Series - 3 terms'])\n",
        "\n",
        "plt.show()"
      ],
      "execution_count": null,
      "outputs": [
        {
          "output_type": "display_data",
          "data": {
            "image/png": "[encoded data removed]",
            "text/plain": [
              "<Figure size 432x288 with 1 Axes>"
            ]
          },
          "metadata": {
            "tags": [],
            "needs_background": "light"
          }
        }
      ]
    },
    {
      "cell_type": "markdown",
      "metadata": {
        "id": "AMmPI7roQvgj"
      },
      "source": [
        "We can use a for loop to see how much better adding additional terms to our Taylor Series approximation compares to Python's `cos()` function."
      ]
    },
    {
      "cell_type": "code",
      "metadata": {
        "colab": {
          "base_uri": "https://localhost:8080/",
          "height": 269
        },
        "id": "5OMkbjd5Qy4W",
        "outputId": "c6250214-2ab7-425d-8dc8-a8e420caf092"
      },
      "source": [
        "import math\n",
        "import numpy as np\n",
        "import matplotlib.pyplot as plt\n",
        "# if using a Jupyter notebook, include:\n",
        "%matplotlib inline\n",
        "\n",
        "angles = np.arange(-2*np.pi,2*np.pi,0.1)\n",
        "p_cos = np.cos(angles)\n",
        "\n",
        "fig, ax = plt.subplots()\n",
        "ax.plot(angles,p_cos)\n",
        "\n",
        "# add lines for between 1 and 6 terms in the Taylor Series\n",
        "for i in range(1,6):\n",
        "    t_cos = [func_cos(angle,i) for angle in angles]\n",
        "    ax.plot(angles,t_cos)\n",
        "\n",
        "ax.set_ylim([-7,4])\n",
        "\n",
        "# set up legend\n",
        "legend_lst = ['cos() function']\n",
        "for i in range(1,6):\n",
        "    legend_lst.append(f'Taylor Series - {i} terms')\n",
        "ax.legend(legend_lst, loc=3)\n",
        "\n",
        "plt.show()"
      ],
      "execution_count": null,
      "outputs": [
        {
          "output_type": "display_data",
          "data": {
            "image/png": "[encoded data removed]",
            "text/plain": [
              "<Figure size 432x288 with 1 Axes>"
            ]
          },
          "metadata": {
            "tags": [],
            "needs_background": "light"
          }
        }
      ]
    },
    {
      "cell_type": "markdown",
      "metadata": {
        "id": "LLWDZptAQ1GC"
      },
      "source": [
        "We see the Taylor Series with 5 terms (the brown line) comes closest to approximating Python's `cos()` function. The Taylor Series with 5 terms is a good approximation of the cosine of angles between about $−π$ and $π$ radians. The Taylor Series with 5 terms is a worse approximation for angles less than $−π$ or greater than $π$. As the angle gets further away from zero radians, the estimate of the cosine using a Taylor Series gets worse and worse."
      ]
    },
    {
      "cell_type": "markdown",
      "metadata": {
        "id": "pbyGe00TW1YO"
      },
      "source": [
        "# $\\frac{1}{1-x}$"
      ]
    },
    {
      "cell_type": "markdown",
      "metadata": {
        "id": "vea2rjRx-zWq"
      },
      "source": [
        "Next, let's calculate the value of the function $\\frac{1}{1-x}$ using a Taylor Series. The Taylor Series expansion for $\\frac{1}{1-x}$ is below.\n",
        "\n",
        "\\begin{equation}\n",
        "\\frac{1}{1-x} \\approx \\sum_{n=0}^{\\infty } x^{n} \\approx  1 + x + x^{2} + x^{3} + x^{4} + x^{5} + \\cdots \n",
        "\\end{equation}\n",
        "\n",
        "We can code this formula into a function that contains a *for loop*."
      ]
    },
    {
      "cell_type": "code",
      "metadata": {
        "id": "CdWF-kRv_hU5"
      },
      "source": [
        "import math\n",
        "\n",
        "def func(x, n):\n",
        "    cont = 0\n",
        "    for i in range(n):\n",
        "        cont += x**n\n",
        "    \n",
        "    return cont"
      ],
      "execution_count": null,
      "outputs": []
    },
    {
      "cell_type": "markdown",
      "metadata": {
        "id": "LCNWGRcp_5Tv"
      },
      "source": [
        "We can use a for loop to see how much better adding additional terms to our Taylor Series approximation compares to Python's `1/1-x` function."
      ]
    },
    {
      "cell_type": "code",
      "metadata": {
        "colab": {
          "base_uri": "https://localhost:8080/",
          "height": 287
        },
        "id": "8LixKHiDACkP",
        "outputId": "7a204ad5-bee9-4a37-d07e-2405bf6bd72b"
      },
      "source": [
        "import math\n",
        "import numpy as np\n",
        "import matplotlib.pyplot as plt\n",
        "# if using a Jupyter notebook, include:\n",
        "%matplotlib inline\n",
        "\n",
        "x = np.linspace(-2,2)\n",
        "for v in range(1,5):\n",
        "  arr = []\n",
        "  for c in x:\n",
        "    arr.append(func(c,v))\n",
        "  labelm = f'Taylor Series - {str(v)} terms'\n",
        "  plt.plot(x,arr, label = labelm )\n",
        "    \n",
        "plt.title('Serie Taylor de la Función 1/(1-x)', fontsize = 20) \n",
        "plt.plot(x, 1/(1-x), label= \"Función 1/(1-x)\", linewidth = 2, linestyle = \"--\", color = \"indigo\")\n",
        "plt.legend()                             \n",
        "plt.show()"
      ],
      "execution_count": null,
      "outputs": [
        {
          "output_type": "display_data",
          "data": {
            "image/png": "[encoded data removed]",
            "text/plain": [
              "<Figure size 432x288 with 1 Axes>"
            ]
          },
          "metadata": {
            "tags": [],
            "needs_background": "light"
          }
        }
      ]
    },
    {
      "cell_type": "markdown",
      "metadata": {
        "id": "zO6vwRTmXA9A"
      },
      "source": [
        "# $ln\\left ( 1+x \\right )$"
      ]
    },
    {
      "cell_type": "markdown",
      "metadata": {
        "id": "441F9rDsMF63"
      },
      "source": [
        "Next, let's calculate the value of the function $ln\\left ( x+1 \\right )$ using a Taylor Series. The Taylor Series expansion for $ln\\left ( x+1 \\right )$ is below.\n",
        "\n",
        "\\begin{equation}\n",
        "ln\\left ( x+1 \\right ) = -\\sum_{k=1}^{\\infty}\\frac{\\left ( -1 \\right )^{k}x^{k}}{k} = x-\\frac{x^{2}}{2}+\\frac{x^{3}}{3}-\\frac{x^{4}}{4}+\\frac{x^{5}}{5}-\\cdots \n",
        "\\end{equation}\n",
        "\n",
        "We can code this formula into a function that contains a *for loop*."
      ]
    },
    {
      "cell_type": "code",
      "metadata": {
        "id": "2rpwSolgN5Aw"
      },
      "source": [
        "import math\n",
        "\n",
        "def func_ln(x, n):\n",
        "    cont = 0\n",
        "    for i in range(1, n+1):\n",
        "      cont += -( ((-1)**i)*(x**i)/i )\n",
        "    return cont"
      ],
      "execution_count": null,
      "outputs": []
    },
    {
      "cell_type": "markdown",
      "metadata": {
        "id": "cRyLiQ7wN_Ao"
      },
      "source": [
        "We can use a for loop to see how much better adding additional terms to our Taylor Series approximation compares to Python's `ln(x+1)` function."
      ]
    },
    {
      "cell_type": "code",
      "metadata": {
        "colab": {
          "base_uri": "https://localhost:8080/",
          "height": 321
        },
        "id": "yoYDkRKyPFf8",
        "outputId": "8a9718e3-30d4-480b-d943-e82366733cbe"
      },
      "source": [
        "import math\n",
        "import numpy as np\n",
        "import matplotlib.pyplot as plt\n",
        "# if using a Jupyter notebook, include:\n",
        "%matplotlib inline\n",
        "\n",
        "x = np.linspace(-2,2)\n",
        "for v in range(1,5):\n",
        "  arr = []\n",
        "  for c in x:\n",
        "    arr.append(func_ln(c,v))\n",
        "  labelm = f'Taylor Series - {str(v)} terms'\n",
        "  plt.plot(x,arr, label = labelm )\n",
        "    \n",
        "plt.title('Serie Taylor de la Función ln(1+x)',fontsize= 20) \n",
        "plt.plot(x, np.log(1+x), label= \"Función ln(1+x)\", linewidth = 2, linestyle = \"--\", color = \"indigo\")\n",
        "plt.legend() \n",
        "plt.xlim(-2, 2)\n",
        "plt.ylim(-4,2)                          \n",
        "plt.show()"
      ],
      "execution_count": null,
      "outputs": [
        {
          "output_type": "stream",
          "text": [
            "/usr/local/lib/python3.7/dist-packages/ipykernel_launcher.py:16: RuntimeWarning: invalid value encountered in log\n",
            "  app.launch_new_instance()\n"
          ],
          "name": "stderr"
        },
        {
          "output_type": "display_data",
          "data": {
            "image/png": "[encoded data removed]",
            "text/plain": [
              "<Figure size 432x288 with 1 Axes>"
            ]
          },
          "metadata": {
            "tags": [],
            "needs_background": "light"
          }
        }
      ]
    },
    {
      "cell_type": "markdown",
      "metadata": {
        "id": "28wEkJ_6Q_Xz"
      },
      "source": [
        "# $ln\\left ( x \\right )$"
      ]
    },
    {
      "cell_type": "markdown",
      "metadata": {
        "id": "pxyYKToda1wU"
      },
      "source": [
        "Next, let's calculate the value of the function $ln\\left ( x \\right )$ using a Taylor Series. The Taylor Series expansion for $ln\\left ( x \\right )$ is below.\n",
        "\n",
        "\\begin{equation}\n",
        "ln\\left ( x \\right ) = -\\sum_{k=1}^{\\infty}\\frac{\\left ( -1 \\right )^{k-1} \\left ( x-1 \\right )^{k}}{k} = \\left ( x-1 \\right )-\\frac{\\left ( x-1 \\right )^{2}}{2}+\\frac{\\left ( x-1 \\right )^{3}}{3}-\\frac{\\left ( x-1 \\right )^{4}}{4}+\\frac{\\left ( x-1 \\right )^{5}}{5}-\\cdots \n",
        "\\end{equation}\n",
        "\n",
        "We can code this formula into a function that contains a *for loop*."
      ]
    },
    {
      "cell_type": "code",
      "metadata": {
        "id": "xmAYMmcwa6t6"
      },
      "source": [
        "import math\n",
        "\n",
        "def func_ln2(x, n):\n",
        "    cont = 0\n",
        "    for i in range(1, n+1):\n",
        "      cont += ( ((-1)**(i-1))*((x-1)**i)/i )\n",
        "    return cont"
      ],
      "execution_count": null,
      "outputs": []
    },
    {
      "cell_type": "markdown",
      "metadata": {
        "id": "6T7hBXQ6bJOi"
      },
      "source": [
        "We can use a for loop to see how much better adding additional terms to our Taylor Series approximation compares to Python's `ln(x)` function."
      ]
    },
    {
      "cell_type": "code",
      "metadata": {
        "colab": {
          "base_uri": "https://localhost:8080/",
          "height": 321
        },
        "id": "iT1xj4M2bNtf",
        "outputId": "7dd93984-81ca-4645-c594-cb4e5aa7dd55"
      },
      "source": [
        "import math\n",
        "import numpy as np\n",
        "import matplotlib.pyplot as plt\n",
        "# if using a Jupyter notebook, include:\n",
        "%matplotlib inline\n",
        "\n",
        "x=np.linspace(-10,10)\n",
        "for v in range(1,5):\n",
        "  arr =[]\n",
        "  for c in x:\n",
        "    arr.append(func_ln2(c,v))\n",
        "  labelm = f'Taylor Series - {str(v)} terms'\n",
        "  plt.plot(x,arr, label = labelm )\n",
        "    \n",
        "plt.title('Serie Taylor de la Función ln(x)', fontsize = 20) \n",
        "plt.plot(x, np.log(x), label= \"Función ln(x)\", linewidth = 2, linestyle = \"--\", color = \"indigo\")\n",
        "plt.legend() \n",
        "plt.xlim(-10, 10)\n",
        "plt.ylim(-20,20)                          \n",
        "plt.show()"
      ],
      "execution_count": null,
      "outputs": [
        {
          "output_type": "stream",
          "text": [
            "/usr/local/lib/python3.7/dist-packages/ipykernel_launcher.py:16: RuntimeWarning: invalid value encountered in log\n",
            "  app.launch_new_instance()\n"
          ],
          "name": "stderr"
        },
        {
          "output_type": "display_data",
          "data": {
            "image/png": "[encoded data removed]",
            "text/plain": [
              "<Figure size 432x288 with 1 Axes>"
            ]
          },
          "metadata": {
            "tags": [],
            "needs_background": "light"
          }
        }
      ]
    },
    {
      "cell_type": "markdown",
      "metadata": {
        "id": "n0C5knbbK6VH"
      },
      "source": [
        "# Summary"
      ]
    },
    {
      "cell_type": "markdown",
      "metadata": {
        "id": "ZKxHOozgRBaT"
      },
      "source": [
        "In this post, we reviewed how to construct the Taylor Series of $e^{x}$ and $cos(x)$ in Python. First, we coded each term of the Taylor series individually. Next, we used a for loop to calculate n terms in the Taylor Series expansion. We then refactored the code with the for loop into a function and parameterized our function so that we could calculate e raised to any number calculated out to any number of terms. At the end of the post, we coded the Taylor Series of $ cos(x)$ into a Python function. Finally, we used our Taylor Series cosine function to build a plot with Matplotlib that shows how the Taylor Series approximation compares to Python's `cos()` function for angles between $−2π$ and $2π$ radians."
      ]
    }
  ]
}